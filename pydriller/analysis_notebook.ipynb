{
 "cells": [
  {
   "cell_type": "markdown",
   "metadata": {},
   "source": [
    "### Extracting data from GitHub repositories using PyDriller\n",
    "\n",
    "In this notebook we are using [PyDriller framework](https://pydriller.readthedocs.io/en/latest/intro.html) to extract information from GitHub repositories for analytics pusposes. Data from repositories such as commits, developers, modifications, diffs, and source codes, can be quickly and programatically exported to local CSV files or ingested in Cloud storage such as S3."
   ]
  },
  {
   "cell_type": "code",
   "execution_count": 13,
   "metadata": {},
   "outputs": [],
   "source": [
    "import logging\n",
    "import boto3\n",
    "import os\n",
    "\n",
    "import pandas as pd\n",
    "from pydriller import Repository, Git, Commit"
   ]
  },
  {
   "cell_type": "code",
   "execution_count": null,
   "metadata": {},
   "outputs": [],
   "source": []
  },
  {
   "cell_type": "markdown",
   "metadata": {},
   "source": [
    "#### Setting variables"
   ]
  },
  {
   "cell_type": "code",
   "execution_count": 42,
   "metadata": {},
   "outputs": [],
   "source": [
    "\n",
    "# Git configurations\n",
    "REPO_SLUG = \"fvgm-spec/medium_notebooks\"\n",
    "REPO_URL = f\"https://github.com/{REPO_SLUG}.git\"\n",
    "\n",
    "# S3 bucket configurations\n",
    "BUCKET_PATH = f\"s3://sample-data9623/github-analytics/{REPO_SLUG}/commits\"\n",
    "\n",
    "# Local path\n",
    "DATA_PATH = f\"output_data\""
   ]
  },
  {
   "cell_type": "code",
   "execution_count": 20,
   "metadata": {},
   "outputs": [],
   "source": [
    "gr = Git(f'D:/dev/fvgm-spec/medium_notebooks')"
   ]
  },
  {
   "cell_type": "code",
   "execution_count": 26,
   "metadata": {},
   "outputs": [
    {
     "data": {
      "text/plain": [
       "<generator object Git.get_list_commits at 0x00000168CDA2B880>"
      ]
     },
     "execution_count": 26,
     "metadata": {},
     "output_type": "execute_result"
    }
   ],
   "source": [
    "commits = gr.get_list_commits()\n",
    "commits  "
   ]
  },
  {
   "cell_type": "markdown",
   "metadata": {},
   "source": [
    "#### Helper functions"
   ]
  },
  {
   "cell_type": "code",
   "execution_count": 51,
   "metadata": {},
   "outputs": [],
   "source": [
    "def download_commits(url:str=REPO_URL) -> list:\n",
    "    commits = []\n",
    "    \n",
    "    # Traverse the commits in the repository\n",
    "    for commit in Repository(url).traverse_commits():\n",
    "        commits.append(\n",
    "            {\n",
    "                \"commit_hash\": commit.hash,\n",
    "                \"commit_msg\": commit.msg,\n",
    "                \"author_name\": commit.author.name,\n",
    "                \"author_email\": commit.author.email,\n",
    "                \"author_date\": commit.author_date,\n",
    "                \"author_timezone\": commit.author_timezone,\n",
    "                \"merge\": commit.merge,\n",
    "            }\n",
    "        )\n",
    "\n",
    "    return commits\n",
    "\n",
    "def download_modified_files(url:str=REPO_URL) -> list:\n",
    "    \n",
    "    modified_files = []\n",
    "\n",
    "    # Traverse the commits in the repository\n",
    "    for commit in Repository(url).traverse_commits():\n",
    "\n",
    "        # Iterate over the modified files in each commit\n",
    "        for modified_file in commit.modified_files:\n",
    "            modified_files.append(\n",
    "                {\n",
    "                    \"commit_hash\": commit.hash,\n",
    "                    \"filename\": modified_file.filename,\n",
    "                    \"old_path\": modified_file.old_path,\n",
    "                    \"new_path\": modified_file.new_path,\n",
    "                    \"added_lines\": modified_file.added_lines,\n",
    "                    \"deleted_lines\": modified_file.deleted_lines,\n",
    "                }\n",
    "            )\n",
    "\n",
    "    return modified_files\n",
    "\n",
    "def write_commits(commit_list:list,\n",
    "                  destination:str,\n",
    "                  filename:str) -> pd.DataFrame:\n",
    "    # Set \n",
    "    \n",
    "    df = pd.DataFrame(commit_list)\n",
    "    TIMESTAMP = pd.Timestamp.now().strftime(\"%Y%m%d%H%M%S\")\n",
    "    df.to_csv(f\"{destination}/{filename}_{TIMESTAMP}.csv\")\n",
    "\n",
    "    return df"
   ]
  },
  {
   "cell_type": "code",
   "execution_count": 46,
   "metadata": {},
   "outputs": [],
   "source": [
    "commits = download_commits()"
   ]
  },
  {
   "cell_type": "code",
   "execution_count": 52,
   "metadata": {},
   "outputs": [],
   "source": [
    "modified_files = download_modified_files()"
   ]
  },
  {
   "cell_type": "code",
   "execution_count": 50,
   "metadata": {},
   "outputs": [
    {
     "data": {
      "text/html": [
       "<div>\n",
       "<style scoped>\n",
       "    .dataframe tbody tr th:only-of-type {\n",
       "        vertical-align: middle;\n",
       "    }\n",
       "\n",
       "    .dataframe tbody tr th {\n",
       "        vertical-align: top;\n",
       "    }\n",
       "\n",
       "    .dataframe thead th {\n",
       "        text-align: right;\n",
       "    }\n",
       "</style>\n",
       "<table border=\"1\" class=\"dataframe\">\n",
       "  <thead>\n",
       "    <tr style=\"text-align: right;\">\n",
       "      <th></th>\n",
       "      <th>commit_hash</th>\n",
       "      <th>commit_msg</th>\n",
       "      <th>author_name</th>\n",
       "      <th>author_email</th>\n",
       "      <th>author_date</th>\n",
       "      <th>author_timezone</th>\n",
       "      <th>merge</th>\n",
       "    </tr>\n",
       "  </thead>\n",
       "  <tbody>\n",
       "    <tr>\n",
       "      <th>0</th>\n",
       "      <td>ace05ee8918dba8f6841d313769029256684f2b4</td>\n",
       "      <td>adding README</td>\n",
       "      <td>felix-bla</td>\n",
       "      <td>felixgutierrez@ballastlane.com</td>\n",
       "      <td>2022-06-23 08:58:01-03:00</td>\n",
       "      <td>10800</td>\n",
       "      <td>False</td>\n",
       "    </tr>\n",
       "    <tr>\n",
       "      <th>1</th>\n",
       "      <td>ed7a068435e461427a96e07d7ba9e5bd09c1e41a</td>\n",
       "      <td>adding notebook</td>\n",
       "      <td>felix-bla</td>\n",
       "      <td>felixgutierrez@ballastlane.com</td>\n",
       "      <td>2022-06-23 09:00:21-03:00</td>\n",
       "      <td>10800</td>\n",
       "      <td>False</td>\n",
       "    </tr>\n",
       "    <tr>\n",
       "      <th>2</th>\n",
       "      <td>d831ea0014d1a110349635d00248c1b4d00285ae</td>\n",
       "      <td>adding file</td>\n",
       "      <td>felix-bla</td>\n",
       "      <td>felixgutierrez@ballastlane.com</td>\n",
       "      <td>2022-06-23 09:01:23-03:00</td>\n",
       "      <td>10800</td>\n",
       "      <td>False</td>\n",
       "    </tr>\n",
       "    <tr>\n",
       "      <th>3</th>\n",
       "      <td>57a4014a93a97ecd918ce8fd49879ac0ec959825</td>\n",
       "      <td>adding file</td>\n",
       "      <td>felix-bla</td>\n",
       "      <td>felixgutierrez@ballastlane.com</td>\n",
       "      <td>2022-06-23 09:02:09-03:00</td>\n",
       "      <td>10800</td>\n",
       "      <td>False</td>\n",
       "    </tr>\n",
       "    <tr>\n",
       "      <th>4</th>\n",
       "      <td>050f7c376c623eb5c8bd6ce99fe4248bc06c51a3</td>\n",
       "      <td>adding file</td>\n",
       "      <td>felix-bla</td>\n",
       "      <td>felixgutierrez@ballastlane.com</td>\n",
       "      <td>2022-06-23 09:03:23-03:00</td>\n",
       "      <td>10800</td>\n",
       "      <td>False</td>\n",
       "    </tr>\n",
       "    <tr>\n",
       "      <th>...</th>\n",
       "      <td>...</td>\n",
       "      <td>...</td>\n",
       "      <td>...</td>\n",
       "      <td>...</td>\n",
       "      <td>...</td>\n",
       "      <td>...</td>\n",
       "      <td>...</td>\n",
       "    </tr>\n",
       "    <tr>\n",
       "      <th>56</th>\n",
       "      <td>127b1a8ed2bf2c92b5abdcf02a0aca234c6340a1</td>\n",
       "      <td>updating notebook</td>\n",
       "      <td>Felix Gutierrez</td>\n",
       "      <td>felixgutierrez@ballastlane.com</td>\n",
       "      <td>2023-05-08 13:57:49-03:00</td>\n",
       "      <td>10800</td>\n",
       "      <td>False</td>\n",
       "    </tr>\n",
       "    <tr>\n",
       "      <th>57</th>\n",
       "      <td>2e2ca3a3b07c7f977bc3eac9547490069cfb29f0</td>\n",
       "      <td>Created using Colaboratory</td>\n",
       "      <td>Felix Gutierrez</td>\n",
       "      <td>60470663+fvgm-spec@users.noreply.github.com</td>\n",
       "      <td>2023-05-17 13:39:18-03:00</td>\n",
       "      <td>10800</td>\n",
       "      <td>False</td>\n",
       "    </tr>\n",
       "    <tr>\n",
       "      <th>58</th>\n",
       "      <td>40aa4601238b3b230e463b3774c60368163d73aa</td>\n",
       "      <td>adding notebook</td>\n",
       "      <td>Felix Gutierrez</td>\n",
       "      <td>felixgutierrez@ballastlane.com</td>\n",
       "      <td>2023-05-17 13:46:56-03:00</td>\n",
       "      <td>10800</td>\n",
       "      <td>False</td>\n",
       "    </tr>\n",
       "    <tr>\n",
       "      <th>59</th>\n",
       "      <td>a05fca0b43f4e9545e8a9fd014d84941b8d244fd</td>\n",
       "      <td>adding notebook</td>\n",
       "      <td>Felix Gutierrez</td>\n",
       "      <td>felixgutierrez@ballastlane.com</td>\n",
       "      <td>2023-05-17 13:47:44-03:00</td>\n",
       "      <td>10800</td>\n",
       "      <td>False</td>\n",
       "    </tr>\n",
       "    <tr>\n",
       "      <th>60</th>\n",
       "      <td>5fd9c24b744623487a6deedb1241612179197a5d</td>\n",
       "      <td>updating notebook</td>\n",
       "      <td>Felix Gutierrez</td>\n",
       "      <td>felixgutierrez@ballastlane.com</td>\n",
       "      <td>2023-05-18 09:07:50-03:00</td>\n",
       "      <td>10800</td>\n",
       "      <td>False</td>\n",
       "    </tr>\n",
       "  </tbody>\n",
       "</table>\n",
       "<p>61 rows × 7 columns</p>\n",
       "</div>"
      ],
      "text/plain": [
       "                                 commit_hash                  commit_msg  \\\n",
       "0   ace05ee8918dba8f6841d313769029256684f2b4               adding README   \n",
       "1   ed7a068435e461427a96e07d7ba9e5bd09c1e41a             adding notebook   \n",
       "2   d831ea0014d1a110349635d00248c1b4d00285ae                 adding file   \n",
       "3   57a4014a93a97ecd918ce8fd49879ac0ec959825                 adding file   \n",
       "4   050f7c376c623eb5c8bd6ce99fe4248bc06c51a3                 adding file   \n",
       "..                                       ...                         ...   \n",
       "56  127b1a8ed2bf2c92b5abdcf02a0aca234c6340a1           updating notebook   \n",
       "57  2e2ca3a3b07c7f977bc3eac9547490069cfb29f0  Created using Colaboratory   \n",
       "58  40aa4601238b3b230e463b3774c60368163d73aa             adding notebook   \n",
       "59  a05fca0b43f4e9545e8a9fd014d84941b8d244fd             adding notebook   \n",
       "60  5fd9c24b744623487a6deedb1241612179197a5d           updating notebook   \n",
       "\n",
       "        author_name                                 author_email  \\\n",
       "0         felix-bla               felixgutierrez@ballastlane.com   \n",
       "1         felix-bla               felixgutierrez@ballastlane.com   \n",
       "2         felix-bla               felixgutierrez@ballastlane.com   \n",
       "3         felix-bla               felixgutierrez@ballastlane.com   \n",
       "4         felix-bla               felixgutierrez@ballastlane.com   \n",
       "..              ...                                          ...   \n",
       "56  Felix Gutierrez               felixgutierrez@ballastlane.com   \n",
       "57  Felix Gutierrez  60470663+fvgm-spec@users.noreply.github.com   \n",
       "58  Felix Gutierrez               felixgutierrez@ballastlane.com   \n",
       "59  Felix Gutierrez               felixgutierrez@ballastlane.com   \n",
       "60  Felix Gutierrez               felixgutierrez@ballastlane.com   \n",
       "\n",
       "                  author_date  author_timezone  merge  \n",
       "0   2022-06-23 08:58:01-03:00            10800  False  \n",
       "1   2022-06-23 09:00:21-03:00            10800  False  \n",
       "2   2022-06-23 09:01:23-03:00            10800  False  \n",
       "3   2022-06-23 09:02:09-03:00            10800  False  \n",
       "4   2022-06-23 09:03:23-03:00            10800  False  \n",
       "..                        ...              ...    ...  \n",
       "56  2023-05-08 13:57:49-03:00            10800  False  \n",
       "57  2023-05-17 13:39:18-03:00            10800  False  \n",
       "58  2023-05-17 13:46:56-03:00            10800  False  \n",
       "59  2023-05-17 13:47:44-03:00            10800  False  \n",
       "60  2023-05-18 09:07:50-03:00            10800  False  \n",
       "\n",
       "[61 rows x 7 columns]"
      ]
     },
     "execution_count": 50,
     "metadata": {},
     "output_type": "execute_result"
    }
   ],
   "source": [
    "write_commits(commits, BUCKET_PATH, \"commits\")"
   ]
  },
  {
   "cell_type": "code",
   "execution_count": 58,
   "metadata": {},
   "outputs": [
    {
     "name": "stdout",
     "output_type": "stream",
     "text": [
      "ace05ee8918dba8f6841d313769029256684f2b4 medium_notebooks adding README felix-bla 2022-06-23 08:58:01-03:00\n",
      "ed7a068435e461427a96e07d7ba9e5bd09c1e41a medium_notebooks adding notebook felix-bla 2022-06-23 09:00:21-03:00\n",
      "d831ea0014d1a110349635d00248c1b4d00285ae medium_notebooks adding file felix-bla 2022-06-23 09:01:23-03:00\n",
      "57a4014a93a97ecd918ce8fd49879ac0ec959825 medium_notebooks adding file felix-bla 2022-06-23 09:02:09-03:00\n",
      "050f7c376c623eb5c8bd6ce99fe4248bc06c51a3 medium_notebooks adding file felix-bla 2022-06-23 09:03:23-03:00\n",
      "09e4c841dc7b926d85be7194dbcf3feb6a459677 medium_notebooks adding new file felix-bla 2022-06-23 09:30:51-03:00\n",
      "d094952e383b4193e99d55812bb597efaa03b449 medium_notebooks adding new file felix-bla 2022-06-23 09:34:25-03:00\n",
      "db7528429a97b156e25214d061d93b857edf8b79 medium_notebooks adding new notebook felix-bla 2022-06-23 09:36:50-03:00\n",
      "f7e16bf0ce082f46fb22188c295397061ded770a medium_notebooks updating notebook felix-bla 2022-06-25 20:25:52-03:00\n",
      "2e117581a59c94d3aaf4ad305df5b20aa6dc5582 medium_notebooks updating notebook felix-bla 2022-06-27 17:35:46-03:00\n",
      "a782478b32f3a7ce07ea2ad0bd74f5ddba3525f5 medium_notebooks adding new file felix-bla 2022-06-27 17:36:52-03:00\n",
      "6e43b40eb4a7bfc4f74666086ccd7bc5ac8a6409 medium_notebooks adding notebook felix-bla 2022-07-03 12:56:55-03:00\n",
      "63d367d6f965ae1fc562da82c5ffccae060348bd medium_notebooks adding notebook felix-bla 2022-07-03 13:02:14-03:00\n",
      "4f4516d6c2e5f176dbb172d2bc9208ee9bfe7ee8 medium_notebooks adding notebook felix-bla 2022-07-03 13:05:29-03:00\n",
      "7a457c077f511017c9970b7d68bc089c190b30f0 medium_notebooks adding notebook felix-bla 2022-07-03 13:07:56-03:00\n",
      "2e00b3c4eb8939440c419db2d670003a0874fc6e medium_notebooks adding file felix-bla 2022-07-03 13:14:12-03:00\n",
      "e3d6906500fb8b613a8a2b72350c1c6a86aa835a medium_notebooks adding notebook felix-bla 2022-07-03 16:00:20-03:00\n",
      "90d8926c710109b925dce3a2b69eb9ce91e354f7 medium_notebooks adding file felix-bla 2022-07-03 16:01:13-03:00\n",
      "d0ba8704574270607e43b6a4d33353f4346c37cc medium_notebooks adding file felix-bla 2022-07-03 16:34:28-03:00\n",
      "52e5a26e7f7cdfcdcdf51babde0e54a6e0a5a4ed medium_notebooks adding file felix-bla 2022-07-03 16:39:53-03:00\n",
      "d20a01877879ab15fbf09f75ec462054386ae914 medium_notebooks adding notebook felix-bla 2022-07-03 18:35:22-03:00\n",
      "b3b62b7fcd12743eeb95c6fa0ea36706e4be2dbf medium_notebooks adding file felix-bla 2022-07-03 20:45:26-03:00\n",
      "9f4e04ec0c5ccf1300b81cbb60ab3e0df4ebeba1 medium_notebooks adding file felix-bla 2022-07-04 11:29:57-03:00\n",
      "e23317bf6f07b4b346c440192eba2709d1406c98 medium_notebooks uploading files felix-bla 2022-07-20 12:12:25-03:00\n",
      "7b003f369a34f2edcc0cbc47939ce62b241a203b medium_notebooks updating notebook felix-bla 2022-07-20 15:59:28-03:00\n",
      "a4ee8cbfd17a93a467778893b830e7fd894f619a medium_notebooks adding new file felix-bla 2022-07-23 20:53:22-03:00\n",
      "d656d76bb19f749eea45e93a26b033e88797a366 medium_notebooks updating notebook felix-bla 2022-07-23 20:55:15-03:00\n",
      "6c8d2bd6c3192f5517ff3e1c87b990c72987f471 medium_notebooks updating notebook fvgm-spec 2022-08-18 10:18:21-03:00\n",
      "071a4e3e7b999354ffc5b7b33855c6f684665e29 medium_notebooks adding notebook fvgm-spec 2022-08-21 18:17:40-03:00\n",
      "e1182c67857766b22fd21a7ba59e8c4a92911826 medium_notebooks adding notebook fvgm-spec 2022-08-22 08:54:50-03:00\n",
      "6a81b14476a4fd27eebcd701c2adf225fbbd70e7 medium_notebooks updating notebook fvgm-spec 2022-08-22 09:51:00-03:00\n",
      "17af4fdabe0729080038f844349a71a7dbf4d13d medium_notebooks adding file fvgm-spec 2022-08-22 09:54:22-03:00\n",
      "b84a050649a2c227e6d95537a3ae4f67b87044d0 medium_notebooks adding file fvgm-spec 2022-08-22 10:19:29-03:00\n",
      "53ea7882517a332446acee851595f5f76dfef9f6 medium_notebooks adding README Felix Gutierrez 2022-09-07 09:51:40-03:00\n",
      "5785ae0452f5472b445f639a00f5cc7353195622 medium_notebooks adding README file Felix Gutierrez 2022-09-10 13:21:39-03:00\n",
      "608685e755af565f2ab73d417b0267497030a7f8 medium_notebooks adding notebook Felix Gutierrez 2022-09-17 21:54:26-03:00\n",
      "12aece11a2cf7cb531321d4ad85a6eba9eac4068 medium_notebooks adding notebook Felix Gutierrez 2022-09-21 09:28:21-03:00\n",
      "e5e1c20125f921d358ea427ac8cd462929707e16 medium_notebooks updating notebook Felix Gutierrez 2022-09-28 10:17:29-03:00\n",
      "5a58a2d767cd0ba5627d02665414a869011866bf medium_notebooks adding file Felix Gutierrez 2022-09-28 10:19:08-03:00\n",
      "04f154c1e49c0ab71ed3f6fcecd23d4d2cf6d79b medium_notebooks adding notebook Felix Gutierrez 2022-12-05 18:13:27-03:00\n",
      "a2db0f583400fc2c75cedd4f479654ae729cff5e medium_notebooks updating notebook Felix Gutierrez 2022-12-07 15:42:53-03:00\n",
      "158dd8ac5e50ab9d28f34a9f1a8753efda0be53a medium_notebooks adding files Felix Gutierrez 2022-12-07 15:44:00-03:00\n",
      "8d0207e0d089c227da8655cdb4e2d759c7ff6929 medium_notebooks adding new notebook Felix Gutierrez 2023-01-21 17:23:26-03:00\n",
      "6b84989724c500384dc5f2e65694bd8962eb1f98 medium_notebooks adding new notebook Felix Gutierrez 2023-01-21 18:03:41-03:00\n",
      "ec42355bd021646876d77daec6b24e5aede8db81 medium_notebooks adding new notebook Felix Gutierrez 2023-01-21 20:51:30-03:00\n",
      "d870a44ff875d7ba94ce14ff1fa423b1e344e3e1 medium_notebooks adding new notebook Felix Gutierrez 2023-02-01 14:53:17-03:00\n",
      "c52c60d8167e9032f017b0043d6858ccab1799a3 medium_notebooks adding new notebook Felix Gutierrez 2023-02-06 14:25:00-03:00\n",
      "db7d6875400c379f8052b37279c671bff56fd16e medium_notebooks adding new notebook Felix Gutierrez 2023-03-01 17:07:16-03:00\n",
      "f912cec020d68c9c4ae4f7b7853cd50fd5cf9b48 medium_notebooks Adding new notebook Felix Gutierrez 2023-04-13 11:18:09-03:00\n",
      "c03814ce04249a835865006e3c041c996e6fc2f1 medium_notebooks updating new notebook Felix Gutierrez 2023-04-13 11:26:49-03:00\n",
      "42fc0292254d72814eed0a32e0c5f9bd849a1742 medium_notebooks adding video Felix Gutierrez 2023-04-14 11:29:48-03:00\n",
      "f4d3f2eca6b875f15c911369c50acf7531f4f552 medium_notebooks Delete stemming.mp4 GitHub 2023-04-14 12:20:06-03:00\n",
      "bca1d3ac137a30561fae79a94e5f508c42b4d313 medium_notebooks adding new notebook Felix Gutierrez 2023-04-14 12:13:59-03:00\n",
      "36eb4aa56c11398290915317e1cebf77476f7421 medium_notebooks adding notebook Felix Gutierrez 2023-04-19 12:30:38-03:00\n",
      "1a7fbea000153d9181957c3e5193b702e40719e3 medium_notebooks updating notebook Felix Gutierrez 2023-05-03 17:05:19-03:00\n",
      "278058ed594b7c6136497ee9463b77bf3d50f64c medium_notebooks adding notebook Felix Gutierrez 2023-05-03 17:06:10-03:00\n",
      "127b1a8ed2bf2c92b5abdcf02a0aca234c6340a1 medium_notebooks updating notebook Felix Gutierrez 2023-05-08 13:57:49-03:00\n",
      "2e2ca3a3b07c7f977bc3eac9547490069cfb29f0 medium_notebooks Created using Colaboratory Felix Gutierrez 2023-05-17 13:39:18-03:00\n",
      "40aa4601238b3b230e463b3774c60368163d73aa medium_notebooks adding notebook Felix Gutierrez 2023-05-17 13:46:56-03:00\n",
      "a05fca0b43f4e9545e8a9fd014d84941b8d244fd medium_notebooks adding notebook Felix Gutierrez 2023-05-17 13:47:44-03:00\n",
      "5fd9c24b744623487a6deedb1241612179197a5d medium_notebooks updating notebook Felix Gutierrez 2023-05-18 09:07:50-03:00\n"
     ]
    }
   ],
   "source": [
    "for commit in Repository(REPO_URL).traverse_commits():\n",
    "    print(\n",
    "        #'The commit {} has been modified by {}, '\n",
    "        #'committed by {} in date {}'.format(\n",
    "            commit.hash,\n",
    "            commit.project_name,\n",
    "            commit.msg,\n",
    "            commit.committer.name,\n",
    "            commit.committer_date\n",
    "        )\n",
    "    "
   ]
  },
  {
   "cell_type": "code",
   "execution_count": null,
   "metadata": {},
   "outputs": [],
   "source": []
  },
  {
   "cell_type": "markdown",
   "metadata": {},
   "source": [
    "#### Git is a wrapper"
   ]
  },
  {
   "cell_type": "code",
   "execution_count": null,
   "metadata": {},
   "outputs": [],
   "source": []
  },
  {
   "cell_type": "code",
   "execution_count": null,
   "metadata": {},
   "outputs": [],
   "source": []
  },
  {
   "cell_type": "code",
   "execution_count": null,
   "metadata": {},
   "outputs": [],
   "source": []
  },
  {
   "cell_type": "code",
   "execution_count": null,
   "metadata": {},
   "outputs": [],
   "source": []
  },
  {
   "cell_type": "markdown",
   "metadata": {},
   "source": [
    "#### Repository Class"
   ]
  },
  {
   "cell_type": "code",
   "execution_count": null,
   "metadata": {},
   "outputs": [],
   "source": []
  },
  {
   "cell_type": "code",
   "execution_count": null,
   "metadata": {},
   "outputs": [],
   "source": []
  },
  {
   "cell_type": "code",
   "execution_count": null,
   "metadata": {},
   "outputs": [],
   "source": []
  },
  {
   "cell_type": "code",
   "execution_count": null,
   "metadata": {},
   "outputs": [],
   "source": []
  },
  {
   "cell_type": "code",
   "execution_count": null,
   "metadata": {},
   "outputs": [],
   "source": []
  },
  {
   "cell_type": "code",
   "execution_count": null,
   "metadata": {},
   "outputs": [],
   "source": []
  },
  {
   "cell_type": "markdown",
   "metadata": {},
   "source": []
  },
  {
   "cell_type": "markdown",
   "metadata": {},
   "source": [
    "#### Commit object"
   ]
  },
  {
   "cell_type": "markdown",
   "metadata": {},
   "source": []
  },
  {
   "cell_type": "code",
   "execution_count": null,
   "metadata": {},
   "outputs": [],
   "source": []
  },
  {
   "cell_type": "code",
   "execution_count": null,
   "metadata": {},
   "outputs": [],
   "source": []
  },
  {
   "cell_type": "code",
   "execution_count": null,
   "metadata": {},
   "outputs": [],
   "source": []
  },
  {
   "cell_type": "markdown",
   "metadata": {},
   "source": [
    "#### list of modified files"
   ]
  },
  {
   "cell_type": "code",
   "execution_count": null,
   "metadata": {},
   "outputs": [],
   "source": []
  },
  {
   "cell_type": "code",
   "execution_count": null,
   "metadata": {},
   "outputs": [],
   "source": []
  }
 ],
 "metadata": {
  "kernelspec": {
   "display_name": "data-wrangling",
   "language": "python",
   "name": "python3"
  },
  "language_info": {
   "codemirror_mode": {
    "name": "ipython",
    "version": 3
   },
   "file_extension": ".py",
   "mimetype": "text/x-python",
   "name": "python",
   "nbconvert_exporter": "python",
   "pygments_lexer": "ipython3",
   "version": "3.11.4"
  },
  "orig_nbformat": 4
 },
 "nbformat": 4,
 "nbformat_minor": 2
}
