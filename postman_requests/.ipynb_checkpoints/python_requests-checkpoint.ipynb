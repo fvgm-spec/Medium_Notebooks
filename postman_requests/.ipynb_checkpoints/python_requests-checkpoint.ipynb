{
 "cells": [
  {
   "cell_type": "markdown",
   "metadata": {},
   "source": [
    "### Exploring GitHub API with requests\n",
    "\n",
    "* Importing packages"
   ]
  },
  {
   "cell_type": "code",
   "execution_count": 57,
   "metadata": {},
   "outputs": [],
   "source": [
    "import pandas as pd\n",
    "import requests\n",
    "import time"
   ]
  },
  {
   "cell_type": "markdown",
   "metadata": {},
   "source": [
    "*  Setting variables"
   ]
  },
  {
   "cell_type": "code",
   "execution_count": 58,
   "metadata": {},
   "outputs": [],
   "source": [
    "#Set type of returned data\n",
    "accept_format = 'application/json'\n",
    "headers= {'Accept': accept_format}"
   ]
  },
  {
   "cell_type": "markdown",
   "metadata": {},
   "source": [
    "* Creating empty dataframe"
   ]
  },
  {
   "cell_type": "code",
   "execution_count": 59,
   "metadata": {},
   "outputs": [],
   "source": [
    "#Creates a dictionary containing empty columns to be used to create the pandas\n",
    "#dataframe\n",
    "cols =  {'id':[\" \"],'node_id':[\" \"], 'avatar_url':[\" \"], 'gravatar_id':[\" \"], 'url':[\" \"], 'html_url':[\" \"], 'followers_url':[\" \"], \n",
    "        'following_url':[\" \"],'gists_url':[\" \"], 'starred_url':[\" \"], 'subscriptions_url':[\" \"], 'organizations_url':[\" \"], 'repos_url':[\" \"],\n",
    "        'events_url':[\" \"], 'received_events_url':[\" \"],'type':[\" \"], 'site_admin':[\" \"]\n",
    "        }\n",
    "        \n",
    "#Creates a pandas dataframe with empty columns that will store the data extracted from \n",
    "#API on each call in the 'for' loop\n",
    "df_ = pd.DataFrame(cols)"
   ]
  },
  {
   "cell_type": "code",
   "execution_count": 60,
   "metadata": {},
   "outputs": [],
   "source": [
    "def parse_df(df):\n",
    "    df = df.iloc[1: , :]\n",
    "    df = [['id', 'login','node_id', 'avatar_url', 'gravatar_id', 'url', 'html_url',\n",
    "           'followers_url', 'following_url', 'gists_url', 'starred_url',\n",
    "           'subscriptions_url', 'organizations_url', 'repos_url', 'events_url',\n",
    "           'received_events_url', 'type', 'site_admin', 'login']]"
   ]
  },
  {
   "cell_type": "markdown",
   "metadata": {},
   "source": [
    "* Extracting data from API"
   ]
  },
  {
   "cell_type": "code",
   "execution_count": 61,
   "metadata": {},
   "outputs": [],
   "source": [
    "for i in range (1,3,1):\n",
    "    get_users = requests.get(f'https://api.github.com/users?since= + {i}')\n",
    "    jsonResponse = get_users.json()\n",
    "    #Converts jsonresponse to dataframe\n",
    "    df = pd.DataFrame.from_dict(jsonResponse)\n",
    "    #Appends data from newly dataframe created that contains the API extraction to new dataframe\n",
    "    df_ = df_.append(df)\n",
    "    time.sleep(2)"
   ]
  },
  {
   "cell_type": "code",
   "execution_count": 62,
   "metadata": {},
   "outputs": [
    {
     "data": {
      "text/plain": [
       "(61, 18)"
      ]
     },
     "execution_count": 62,
     "metadata": {},
     "output_type": "execute_result"
    }
   ],
   "source": [
    "df_.shape"
   ]
  },
  {
   "cell_type": "code",
   "execution_count": 38,
   "metadata": {},
   "outputs": [
    {
     "data": {
      "text/plain": [
       "Index(['id', 'node_id', 'avatar_url', 'gravatar_id', 'url', 'html_url',\n",
       "       'followers_url', 'following_url', 'gists_url', 'starred_url',\n",
       "       'subscriptions_url', 'organizations_url', 'repos_url', 'events_url',\n",
       "       'received_events_url', 'type', 'site_admin', 'login'],\n",
       "      dtype='object')"
      ]
     },
     "execution_count": 38,
     "metadata": {},
     "output_type": "execute_result"
    }
   ],
   "source": [
    "df_.columns"
   ]
  },
  {
   "cell_type": "code",
   "execution_count": 50,
   "metadata": {},
   "outputs": [],
   "source": [
    "df = parse_df(df_)"
   ]
  },
  {
   "cell_type": "code",
   "execution_count": 52,
   "metadata": {},
   "outputs": [],
   "source": [
    "df"
   ]
  },
  {
   "cell_type": "code",
   "execution_count": null,
   "metadata": {},
   "outputs": [],
   "source": []
  },
  {
   "cell_type": "code",
   "execution_count": 13,
   "metadata": {},
   "outputs": [
    {
     "data": {
      "text/html": [
       "<div>\n",
       "<style scoped>\n",
       "    .dataframe tbody tr th:only-of-type {\n",
       "        vertical-align: middle;\n",
       "    }\n",
       "\n",
       "    .dataframe tbody tr th {\n",
       "        vertical-align: top;\n",
       "    }\n",
       "\n",
       "    .dataframe thead th {\n",
       "        text-align: right;\n",
       "    }\n",
       "</style>\n",
       "<table border=\"1\" class=\"dataframe\">\n",
       "  <thead>\n",
       "    <tr style=\"text-align: right;\">\n",
       "      <th></th>\n",
       "      <th>message</th>\n",
       "      <th>documentation_url</th>\n",
       "    </tr>\n",
       "  </thead>\n",
       "  <tbody>\n",
       "    <tr>\n",
       "      <th>0</th>\n",
       "      <td>API rate limit exceeded for 190.135.21.92. (Bu...</td>\n",
       "      <td>https://docs.github.com/rest/overview/resource...</td>\n",
       "    </tr>\n",
       "    <tr>\n",
       "      <th>1</th>\n",
       "      <td>API rate limit exceeded for 190.135.21.92. (Bu...</td>\n",
       "      <td>https://docs.github.com/rest/overview/resource...</td>\n",
       "    </tr>\n",
       "  </tbody>\n",
       "</table>\n",
       "</div>"
      ],
      "text/plain": [
       "                                             message  \\\n",
       "0  API rate limit exceeded for 190.135.21.92. (Bu...   \n",
       "1  API rate limit exceeded for 190.135.21.92. (Bu...   \n",
       "\n",
       "                                   documentation_url  \n",
       "0  https://docs.github.com/rest/overview/resource...  \n",
       "1  https://docs.github.com/rest/overview/resource...  "
      ]
     },
     "execution_count": 13,
     "metadata": {},
     "output_type": "execute_result"
    }
   ],
   "source": [
    "users_table = pd.DataFrame(get_users.json(),index=list(range(len(get_users.json()))))\n",
    "users_table"
   ]
  },
  {
   "cell_type": "code",
   "execution_count": null,
   "metadata": {},
   "outputs": [],
   "source": []
  },
  {
   "cell_type": "code",
   "execution_count": null,
   "metadata": {},
   "outputs": [],
   "source": [
    "people_table = pd.DataFrame(get_people.json(),index=list(range(len(get_people.json()))))\n",
    "\n",
    "# create log message\n",
    "log(f\"Starts transforming data\")\n",
    "\n",
    "#Transforming data extracted from API\n",
    "people_table['department'] =  people_table.department.apply(pd.Series)['name']\n",
    "people_table[\"status\"] = np.where(people_table[\"active\"] == 1, \"Active\", \"Inactive\")\n",
    "people_table[\"active\"] = people_table[\"active\"].astype('bool')\n",
    "people_table[\"contractor\"] = people_table[\"contractor\"].astype('bool')\n",
    "people_table[\"start_date\"] = people_table[\"start_date\"].astype('datetime64')\n",
    "people_table[\"end_date\"] = people_table[\"end_date\"].astype('datetime64')\n",
    "people_table[\"created\"] = people_table[\"created\"].astype('datetime64')\n",
    "people_table[\"modified\"] = people_table[\"modified\"].astype('datetime64')\n",
    "\n",
    "#Rearanges columns in the final dataframe that will be loaded to the database \n",
    "people_table = people_table[['people_id','name','job_title','department','status','email','avatar_file',\n",
    "                            'active','start_date','end_date','created','modified','contractor', 'notes']]"
   ]
  }
 ],
 "metadata": {
  "kernelspec": {
   "display_name": "Python 3",
   "language": "python",
   "name": "python3"
  },
  "language_info": {
   "codemirror_mode": {
    "name": "ipython",
    "version": 3
   },
   "file_extension": ".py",
   "mimetype": "text/x-python",
   "name": "python",
   "nbconvert_exporter": "python",
   "pygments_lexer": "ipython3",
   "version": "3.8.8"
  },
  "vscode": {
   "interpreter": {
    "hash": "bf6434c5a1aa7c8e434dd054297a02391e6efb1cc4c519f6d78eae818bb65a96"
   }
  }
 },
 "nbformat": 4,
 "nbformat_minor": 4
}
