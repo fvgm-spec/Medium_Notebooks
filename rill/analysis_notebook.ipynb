{
 "cells": [
  {
   "cell_type": "markdown",
   "id": "a71f5d60-da70-40fc-be69-6c40e15d1ef9",
   "metadata": {},
   "source": [
    "#### Analyzing netflix watch log data\n",
    "\n",
    "The datasets used for this analysis are available in [Kaggle](https://www.kaggle.com/datasets/arjunajn/netflix-watch-log), and can also be downloaded using [KaggleAPI](https://www.kaggle.com/docs/api), first by running `pip install kaggle`, and then inspecting the datasets available to download. This one specifically can be downloaded running `kaggle datasets download arjunajn/netflix-watch-log`"
   ]
  },
  {
   "cell_type": "code",
   "execution_count": 2,
   "id": "dc241f68",
   "metadata": {},
   "outputs": [
    {
     "name": "stdout",
     "output_type": "stream",
     "text": [
      "ref                                                        title                                           size  lastUpdated          downloadCount  voteCount  usabilityRating  \n",
      "---------------------------------------------------------  ---------------------------------------------  -----  -------------------  -------------  ---------  ---------------  \n",
      "nelgiriyewithana/top-spotify-songs-2023                    Most Streamed Spotify Songs 2023                47KB  2023-08-26 11:04:57           6064        195  1.0              \n",
      "nelgiriyewithana/global-youtube-statistics-2023            Global YouTube Statistics 2023                  60KB  2023-07-28 15:36:38          16663        549  1.0              \n",
      "joebeachcapital/students-performance                       Students Performance                             2KB  2023-08-31 00:50:11           1766         40  1.0              \n",
      "iamsouravbanerjee/airline-dataset                          Airline Dataset                                  4MB  2023-08-30 12:03:12           2534         67  1.0              \n",
      "aliessamali/ecommerce                                      E-commerce Dataset                               7MB  2023-08-13 18:57:42           1793         37  1.0              \n",
      "jjinho/wikipedia-20230701                                  Wikipedia Plaintext (2023-07-01)                12GB  2023-07-17 01:43:57            969         77  1.0              \n",
      "jjinho/wikipedia-2023-07-faiss-index                       Wikipedia 2023 07 faiss index                    5GB  2023-07-17 01:57:37            493         36  1.0              \n",
      "alitaqi000/world-university-rankings-2023                  World University Rankings 2023                  70KB  2023-08-31 14:35:38           1564         45  1.0              \n",
      "mohammadtalib786/retail-sales-dataset                      Retail Sales Dataset                            11KB  2023-08-22 18:33:09           2032         46  1.0              \n",
      "yashkmd/credit-profile-two-wheeler-loan-dataset            Credit Profile (Two-wheeler loan) Dataset        8MB  2023-08-28 18:06:45            583         25  1.0              \n",
      "uom190346a/water-quality-and-potability                    Water Quality and Potability                   251KB  2023-09-04 07:25:50            839         38  1.0              \n",
      "carlmcbrideellis/zzzs-lightweight-training-dataset-target  Zzzs: Lightweight training dataset + target    185MB  2023-09-11 07:21:51            122         34  1.0              \n",
      "khalidalam980/top-rated-movies-data-set                    Top Rated Movies Data Set                        1MB  2023-08-19 12:29:40           1106         34  1.0              \n",
      "nikhil1e9/comic-characters                                 DC-MARVEL Comic Characters                     394KB  2023-08-27 15:19:48            516         22  1.0              \n",
      "nelgiriyewithana/global-weather-repository                 World Weather Repository ( Daily Updating )    198KB  2023-09-10 23:03:01           1294         55  1.0              \n",
      "judith007/my-1-epoch                                       Kaggle_LLM_Deberta                               1GB  2023-08-19 07:26:25             68         14  0.6875           \n",
      "sooyoungher/smoking-drinking-dataset                       Smoking and Drinking Dataset with body signal   27MB  2023-08-30 04:27:31           1230         46  1.0              \n",
      "joebeachcapital/suicides                                   Suicides                                        43KB  2023-08-22 05:33:49            635         22  1.0              \n",
      "alitaqi000/global-population-trends2016-2022               Global Population Trends(2016-2022)             32KB  2023-08-28 12:53:06           1147         25  1.0              \n",
      "amirmotefaker/ab-testing-dataset                           A/B Testing DataSet                              2KB  2023-09-08 14:28:44            241         25  1.0              \n"
     ]
    }
   ],
   "source": [
    "!kaggle datasets list"
   ]
  },
  {
   "cell_type": "markdown",
   "id": "8dd087f3",
   "metadata": {},
   "source": [
    "Once the dataset were downloaded in your local drive, can be stored in an S3 bucket."
   ]
  },
  {
   "cell_type": "code",
   "execution_count": 1,
   "id": "6947b6ed-2f2e-4b7f-b8c4-40e6e4e93cbe",
   "metadata": {},
   "outputs": [],
   "source": [
    "#Importing required packages\n",
    "import pandas as pd"
   ]
  },
  {
   "cell_type": "code",
   "execution_count": 2,
   "id": "5f7fd919-32f8-4ef8-9e2a-0d34faa98a8a",
   "metadata": {},
   "outputs": [],
   "source": [
    "#Setting local variables\n",
    "path = 's3://rilldata/netflix-watch-log/'"
   ]
  },
  {
   "cell_type": "code",
   "execution_count": 3,
   "id": "daa97232-23cc-4e92-a3cb-b3888b19c2db",
   "metadata": {},
   "outputs": [],
   "source": [
    "#Reading data\n",
    "\n",
    "def read_data(data: dict = data):\n",
    "    # Get the URL associated with the first key\n",
    "    k = list(data.keys())[6]\n",
    "    url = data[k]\n",
    "\n",
    "    # Read the data using pandas\n",
    "    df = pd.read_csv(url)\n",
    "    print(f'Data source is {k}')\n",
    "    #df = df.head(5)\n",
    "    \n",
    "    return df\n",
    "\n",
    "def read_data_project(data_path: str, dataset_name: str):\n",
    "    # Read the data using pandas\n",
    "    df = pd.read_csv(f'{data_path}All_{dataset_name}' + '.csv',sep=',')\n",
    "    \n",
    "    return df"
   ]
  },
  {
   "cell_type": "code",
   "execution_count": 6,
   "id": "e7c73a03-7191-4767-99f0-4e71b48c4900",
   "metadata": {},
   "outputs": [
    {
     "data": {
      "text/html": [
       "<div>\n",
       "<style scoped>\n",
       "    .dataframe tbody tr th:only-of-type {\n",
       "        vertical-align: middle;\n",
       "    }\n",
       "\n",
       "    .dataframe tbody tr th {\n",
       "        vertical-align: top;\n",
       "    }\n",
       "\n",
       "    .dataframe thead th {\n",
       "        text-align: right;\n",
       "    }\n",
       "</style>\n",
       "<table border=\"1\" class=\"dataframe\">\n",
       "  <thead>\n",
       "    <tr style=\"text-align: right;\">\n",
       "      <th></th>\n",
       "      <th>Profile Name</th>\n",
       "      <th>Source</th>\n",
       "      <th>Navigation Level</th>\n",
       "      <th>Referrer Url</th>\n",
       "      <th>Webpage Url</th>\n",
       "      <th>Click Utc Ts</th>\n",
       "    </tr>\n",
       "  </thead>\n",
       "  <tbody>\n",
       "    <tr>\n",
       "      <th>0</th>\n",
       "      <td>User 4</td>\n",
       "      <td>Source 0</td>\n",
       "      <td>signupPrompt</td>\n",
       "      <td>NaN</td>\n",
       "      <td>NaN</td>\n",
       "      <td>2022-10-08 14:04:47</td>\n",
       "    </tr>\n",
       "    <tr>\n",
       "      <th>1</th>\n",
       "      <td>User 4</td>\n",
       "      <td>Source 0</td>\n",
       "      <td>browseTitles</td>\n",
       "      <td>NaN</td>\n",
       "      <td>NaN</td>\n",
       "      <td>2022-10-08 14:04:46</td>\n",
       "    </tr>\n",
       "    <tr>\n",
       "      <th>2</th>\n",
       "      <td>User 4</td>\n",
       "      <td>Source 1</td>\n",
       "      <td>movieDetails</td>\n",
       "      <td>NaN</td>\n",
       "      <td>NaN</td>\n",
       "      <td>2022-09-30 14:53:50</td>\n",
       "    </tr>\n",
       "    <tr>\n",
       "      <th>3</th>\n",
       "      <td>User 4</td>\n",
       "      <td>Source 1</td>\n",
       "      <td>browseTitles</td>\n",
       "      <td>NaN</td>\n",
       "      <td>NaN</td>\n",
       "      <td>2022-09-30 14:53:50</td>\n",
       "    </tr>\n",
       "    <tr>\n",
       "      <th>4</th>\n",
       "      <td>User 4</td>\n",
       "      <td>Source 1</td>\n",
       "      <td>movieDetails</td>\n",
       "      <td>NaN</td>\n",
       "      <td>NaN</td>\n",
       "      <td>2022-09-30 14:53:49</td>\n",
       "    </tr>\n",
       "    <tr>\n",
       "      <th>...</th>\n",
       "      <td>...</td>\n",
       "      <td>...</td>\n",
       "      <td>...</td>\n",
       "      <td>...</td>\n",
       "      <td>...</td>\n",
       "      <td>...</td>\n",
       "    </tr>\n",
       "    <tr>\n",
       "      <th>12099</th>\n",
       "      <td>User 8</td>\n",
       "      <td>Source 0</td>\n",
       "      <td>search</td>\n",
       "      <td>NaN</td>\n",
       "      <td>NaN</td>\n",
       "      <td>2023-02-20 03:45:43</td>\n",
       "    </tr>\n",
       "    <tr>\n",
       "      <th>12100</th>\n",
       "      <td>User 8</td>\n",
       "      <td>Source 0</td>\n",
       "      <td>browseTitles</td>\n",
       "      <td>NaN</td>\n",
       "      <td>NaN</td>\n",
       "      <td>2023-02-20 03:45:20</td>\n",
       "    </tr>\n",
       "    <tr>\n",
       "      <th>12101</th>\n",
       "      <td>User 8</td>\n",
       "      <td>Source 0</td>\n",
       "      <td>search</td>\n",
       "      <td>NaN</td>\n",
       "      <td>NaN</td>\n",
       "      <td>2023-02-20 03:45:20</td>\n",
       "    </tr>\n",
       "    <tr>\n",
       "      <th>12102</th>\n",
       "      <td>User 8</td>\n",
       "      <td>Source 0</td>\n",
       "      <td>profilesGate</td>\n",
       "      <td>NaN</td>\n",
       "      <td>NaN</td>\n",
       "      <td>2023-02-20 03:44:47</td>\n",
       "    </tr>\n",
       "    <tr>\n",
       "      <th>12103</th>\n",
       "      <td>User 8</td>\n",
       "      <td>Source 0</td>\n",
       "      <td>browseTitles</td>\n",
       "      <td>NaN</td>\n",
       "      <td>NaN</td>\n",
       "      <td>2023-02-20 03:44:47</td>\n",
       "    </tr>\n",
       "  </tbody>\n",
       "</table>\n",
       "<p>12104 rows × 6 columns</p>\n",
       "</div>"
      ],
      "text/plain": [
       "      Profile Name    Source Navigation Level Referrer Url Webpage Url  \\\n",
       "0           User 4  Source 0     signupPrompt          NaN         NaN   \n",
       "1           User 4  Source 0     browseTitles          NaN         NaN   \n",
       "2           User 4  Source 1     movieDetails          NaN         NaN   \n",
       "3           User 4  Source 1     browseTitles          NaN         NaN   \n",
       "4           User 4  Source 1     movieDetails          NaN         NaN   \n",
       "...            ...       ...              ...          ...         ...   \n",
       "12099       User 8  Source 0           search          NaN         NaN   \n",
       "12100       User 8  Source 0     browseTitles          NaN         NaN   \n",
       "12101       User 8  Source 0           search          NaN         NaN   \n",
       "12102       User 8  Source 0     profilesGate          NaN         NaN   \n",
       "12103       User 8  Source 0     browseTitles          NaN         NaN   \n",
       "\n",
       "              Click Utc Ts  \n",
       "0      2022-10-08 14:04:47  \n",
       "1      2022-10-08 14:04:46  \n",
       "2      2022-09-30 14:53:50  \n",
       "3      2022-09-30 14:53:50  \n",
       "4      2022-09-30 14:53:49  \n",
       "...                    ...  \n",
       "12099  2023-02-20 03:45:43  \n",
       "12100  2023-02-20 03:45:20  \n",
       "12101  2023-02-20 03:45:20  \n",
       "12102  2023-02-20 03:44:47  \n",
       "12103  2023-02-20 03:44:47  \n",
       "\n",
       "[12104 rows x 6 columns]"
      ]
     },
     "execution_count": 6,
     "metadata": {},
     "output_type": "execute_result"
    }
   ],
   "source": [
    "clickstream_df = read_data_project(path,'Clickstream')\n",
    "clickstream_df"
   ]
  },
  {
   "cell_type": "code",
   "execution_count": 7,
   "id": "cb0eb1ad-8953-42dd-8339-cd41c23e3cf0",
   "metadata": {},
   "outputs": [
    {
     "data": {
      "text/plain": [
       "Navigation Level\n",
       "browseTitles                    3171\n",
       "movieDetails                    2749\n",
       "playback                        2507\n",
       "search                           928\n",
       "profilesGate                     913\n",
       "postPlay                         509\n",
       "browseTitlesGallery              406\n",
       "cachedVideos                     281\n",
       "accountMenu                      244\n",
       "newsFeed                         121\n",
       "episodesSelector                  77\n",
       "gameDetails                       30\n",
       "comedyFeedTab                     26\n",
       "webLink                           25\n",
       "screenSaver                       17\n",
       "browseGames                       17\n",
       "notificationSelector              16\n",
       "settings                          13\n",
       "similarTitlesSelector             10\n",
       "planUpgradeGate                   10\n",
       "searchSuggestionTitleResults       8\n",
       "contactUs                          4\n",
       "login                              3\n",
       "accountSettings                    3\n",
       "thumbRatingWelcomeDialog           2\n",
       "categoryHub                        2\n",
       "signupPrompt                       2\n",
       "editProfiles                       2\n",
       "notificationLanding                2\n",
       "customerService                    2\n",
       "logout                             2\n",
       "audioSubtitlesSelector             2\n",
       "Name: count, dtype: int64"
      ]
     },
     "execution_count": 7,
     "metadata": {},
     "output_type": "execute_result"
    }
   ],
   "source": [
    "clickstream_df['Navigation Level'].value_counts()"
   ]
  },
  {
   "cell_type": "code",
   "execution_count": 8,
   "id": "cd4d0ac9",
   "metadata": {},
   "outputs": [
    {
     "name": "stdout",
     "output_type": "stream",
     "text": [
      "<class 'pandas.core.frame.DataFrame'>\n",
      "RangeIndex: 12104 entries, 0 to 12103\n",
      "Data columns (total 6 columns):\n",
      " #   Column            Non-Null Count  Dtype \n",
      "---  ------            --------------  ----- \n",
      " 0   Profile Name      12104 non-null  object\n",
      " 1   Source            12104 non-null  object\n",
      " 2   Navigation Level  12104 non-null  object\n",
      " 3   Referrer Url      2 non-null      object\n",
      " 4   Webpage Url       5 non-null      object\n",
      " 5   Click Utc Ts      12104 non-null  object\n",
      "dtypes: object(6)\n",
      "memory usage: 567.5+ KB\n"
     ]
    }
   ],
   "source": [
    "clickstream_df.info()"
   ]
  },
  {
   "cell_type": "code",
   "execution_count": null,
   "id": "d0e058bf",
   "metadata": {},
   "outputs": [],
   "source": []
  }
 ],
 "metadata": {
  "kernelspec": {
   "display_name": "Python 3 (ipykernel)",
   "language": "python",
   "name": "python3"
  },
  "language_info": {
   "codemirror_mode": {
    "name": "ipython",
    "version": 3
   },
   "file_extension": ".py",
   "mimetype": "text/x-python",
   "name": "python",
   "nbconvert_exporter": "python",
   "pygments_lexer": "ipython3",
   "version": "3.11.4"
  }
 },
 "nbformat": 4,
 "nbformat_minor": 5
}
