{
 "cells": [
  {
   "cell_type": "markdown",
   "metadata": {},
   "source": [
    "## UCL Winners Exploratory Data Analysis\n",
    "\n",
    "Since we are close to knowing who will be the winner this year of the most prestigious European tournament at club's level aka UEFA Champions League, let's perform a recap on who where the teams who won most editions of this competition throughout history.\n",
    "\n",
    "We will use for this analysis data obtained from [Wikipedia](https://en.wikipedia.org/wiki/UEFA_Champions_League) which contains data for the finals of the European club championship since its inception in 1955. I have already parsed and work on this [data](https://github.com/fvgm-spec/csv_files/blob/master/uefa_champions_winners.csv), as well updated with current records, and you can find the data available in my GitHub repo, as well as the [notebook](https://github.com/fvgm-spec/Data_Science_Projects/blob/master/UEFA_winners_Analysis.ipynb) of this analysis."
   ]
  },
  {
   "cell_type": "markdown",
   "metadata": {},
   "source": [
    "### Data Acquistion\n",
    "\n",
    "This dataset, obtained from Wikipedia, contains data for the finals of the European club championship since its inception in 1955. For reference, you can go to this [link] (http://en.wikipedia.org/wiki/UEFA_Champions_League) \n",
    "\n",
    "First we will create a new folder to store the dataset in our root setting a condition if the path does not exist, we'll create it, by using the _os_ package. Then we will use _urllib_ package to download the csv file from *base_url*. Then we'll store it in the folder we previously created, before that we'll make sure that the file does not exist.\n",
    "\n",
    "Once get get our dataset, we;ll convert it into a DataFrame by using *read_csv* command"
   ]
  },
  {
   "cell_type": "code",
   "execution_count": 1,
   "metadata": {},
   "outputs": [],
   "source": [
    "# Importing urlib\n",
    "import urllib\n",
    "import pandas as pd\n",
    "import os\n",
    "\n",
    "# Creating the data folder\n",
    "if not os.path.exists('./data'):\n",
    "    os.makedirs('./data')\n",
    "\n",
    "# Obtaining the dataset using the url that hosts it\n",
    "base_url = 'https://github.com/fvgm-spec/csv_files/blob/master/uefa_champions_winners.csv'\n",
    "if not os.path.exists('./data/uefa.csv'):     # avoid downloading if the file exists\n",
    "    response = urllib.request.urlretrieve(base_url, './data/uefa.csv')"
   ]
  },
  {
   "cell_type": "markdown",
   "metadata": {},
   "source": [
    "In the output of the previous code we get a DataFrame with 64 rows that shows the data for all Champions League finals from the beginning of the competition won by Real Madrid until the last edition won by Bayern Munich."
   ]
  },
  {
   "cell_type": "code",
   "execution_count": 4,
   "metadata": {},
   "outputs": [
    {
     "data": {
      "text/html": [
       "<div>\n",
       "<style scoped>\n",
       "    .dataframe tbody tr th:only-of-type {\n",
       "        vertical-align: middle;\n",
       "    }\n",
       "\n",
       "    .dataframe tbody tr th {\n",
       "        vertical-align: top;\n",
       "    }\n",
       "\n",
       "    .dataframe thead th {\n",
       "        text-align: right;\n",
       "    }\n",
       "</style>\n",
       "<table border=\"1\" class=\"dataframe\">\n",
       "  <thead>\n",
       "    <tr style=\"text-align: right;\">\n",
       "      <th></th>\n",
       "      <th>Season</th>\n",
       "      <th>Nation</th>\n",
       "      <th>Winners</th>\n",
       "      <th>Score</th>\n",
       "      <th>Runners-up</th>\n",
       "      <th>Runner-UpNation</th>\n",
       "      <th>Venue</th>\n",
       "      <th>Attendance</th>\n",
       "    </tr>\n",
       "  </thead>\n",
       "  <tbody>\n",
       "    <tr>\n",
       "      <th>0</th>\n",
       "      <td>1955–56</td>\n",
       "      <td>Spain</td>\n",
       "      <td>Real Madrid</td>\n",
       "      <td>4–3</td>\n",
       "      <td>Stade de Reims</td>\n",
       "      <td>France</td>\n",
       "      <td>Parc des Princes,Paris</td>\n",
       "      <td>38239</td>\n",
       "    </tr>\n",
       "    <tr>\n",
       "      <th>1</th>\n",
       "      <td>1956–57</td>\n",
       "      <td>Spain</td>\n",
       "      <td>Real Madrid</td>\n",
       "      <td>2–0</td>\n",
       "      <td>Fiorentina</td>\n",
       "      <td>Italy</td>\n",
       "      <td>Santiago Bernabéu Stadium, Madrid</td>\n",
       "      <td>124000</td>\n",
       "    </tr>\n",
       "    <tr>\n",
       "      <th>2</th>\n",
       "      <td>1957–58</td>\n",
       "      <td>Spain</td>\n",
       "      <td>Real Madrid</td>\n",
       "      <td>3–2</td>\n",
       "      <td>Milan</td>\n",
       "      <td>Italy</td>\n",
       "      <td>Heysel Stadium,Brussels</td>\n",
       "      <td>67000</td>\n",
       "    </tr>\n",
       "    <tr>\n",
       "      <th>3</th>\n",
       "      <td>1958–59</td>\n",
       "      <td>Spain</td>\n",
       "      <td>Real Madrid</td>\n",
       "      <td>2–0</td>\n",
       "      <td>Stade de Reims</td>\n",
       "      <td>France</td>\n",
       "      <td>Neckarstadion,Stuttgart</td>\n",
       "      <td>72000</td>\n",
       "    </tr>\n",
       "    <tr>\n",
       "      <th>4</th>\n",
       "      <td>1959–60</td>\n",
       "      <td>Spain</td>\n",
       "      <td>Real Madrid</td>\n",
       "      <td>7–3</td>\n",
       "      <td>Eintracht Frankfurt</td>\n",
       "      <td>Germany</td>\n",
       "      <td>Hampden Park,Glasgow</td>\n",
       "      <td>127621</td>\n",
       "    </tr>\n",
       "    <tr>\n",
       "      <th>...</th>\n",
       "      <td>...</td>\n",
       "      <td>...</td>\n",
       "      <td>...</td>\n",
       "      <td>...</td>\n",
       "      <td>...</td>\n",
       "      <td>...</td>\n",
       "      <td>...</td>\n",
       "      <td>...</td>\n",
       "    </tr>\n",
       "    <tr>\n",
       "      <th>62</th>\n",
       "      <td>2017–18</td>\n",
       "      <td>Spain</td>\n",
       "      <td>Real Madrid</td>\n",
       "      <td>4–1</td>\n",
       "      <td>Liverpool</td>\n",
       "      <td>England</td>\n",
       "      <td>Olimpiyskiy NCS Stadium</td>\n",
       "      <td>61561</td>\n",
       "    </tr>\n",
       "    <tr>\n",
       "      <th>63</th>\n",
       "      <td>2018–19</td>\n",
       "      <td>England</td>\n",
       "      <td>Liverpool</td>\n",
       "      <td>2–0</td>\n",
       "      <td>Tottenham</td>\n",
       "      <td>England</td>\n",
       "      <td>Wanda Metropolitano</td>\n",
       "      <td>63272</td>\n",
       "    </tr>\n",
       "    <tr>\n",
       "      <th>64</th>\n",
       "      <td>2019–20</td>\n",
       "      <td>Germany</td>\n",
       "      <td>Bayern Munich</td>\n",
       "      <td>1–0</td>\n",
       "      <td>París Saint-Germain</td>\n",
       "      <td>France</td>\n",
       "      <td>Estádio da Luz</td>\n",
       "      <td>0</td>\n",
       "    </tr>\n",
       "    <tr>\n",
       "      <th>65</th>\n",
       "      <td>2020–21</td>\n",
       "      <td>England</td>\n",
       "      <td>Chelsea</td>\n",
       "      <td>1–0</td>\n",
       "      <td>Manchester City</td>\n",
       "      <td>England</td>\n",
       "      <td>Estadio Do Dragao</td>\n",
       "      <td>14110</td>\n",
       "    </tr>\n",
       "    <tr>\n",
       "      <th>66</th>\n",
       "      <td>2021–22</td>\n",
       "      <td>Spain</td>\n",
       "      <td>Real Madrid</td>\n",
       "      <td>1–0</td>\n",
       "      <td>Liverpool</td>\n",
       "      <td>England</td>\n",
       "      <td>Estadio Do Dragao</td>\n",
       "      <td>75000</td>\n",
       "    </tr>\n",
       "  </tbody>\n",
       "</table>\n",
       "<p>67 rows × 8 columns</p>\n",
       "</div>"
      ],
      "text/plain": [
       "     Season   Nation        Winners Score           Runners-up  \\\n",
       "0   1955–56    Spain    Real Madrid   4–3       Stade de Reims   \n",
       "1   1956–57    Spain    Real Madrid   2–0           Fiorentina   \n",
       "2   1957–58    Spain    Real Madrid   3–2                Milan   \n",
       "3   1958–59    Spain    Real Madrid   2–0       Stade de Reims   \n",
       "4   1959–60    Spain    Real Madrid   7–3  Eintracht Frankfurt   \n",
       "..      ...      ...            ...   ...                  ...   \n",
       "62  2017–18    Spain    Real Madrid   4–1            Liverpool   \n",
       "63  2018–19  England      Liverpool   2–0            Tottenham   \n",
       "64  2019–20  Germany  Bayern Munich   1–0  París Saint-Germain   \n",
       "65  2020–21  England        Chelsea   1–0      Manchester City   \n",
       "66  2021–22    Spain    Real Madrid   1–0            Liverpool   \n",
       "\n",
       "   Runner-UpNation                              Venue  Attendance  \n",
       "0           France             Parc des Princes,Paris       38239  \n",
       "1            Italy  Santiago Bernabéu Stadium, Madrid      124000  \n",
       "2            Italy            Heysel Stadium,Brussels       67000  \n",
       "3           France            Neckarstadion,Stuttgart       72000  \n",
       "4          Germany               Hampden Park,Glasgow      127621  \n",
       "..             ...                                ...         ...  \n",
       "62         England            Olimpiyskiy NCS Stadium       61561  \n",
       "63         England                Wanda Metropolitano       63272  \n",
       "64          France                     Estádio da Luz           0  \n",
       "65         England                  Estadio Do Dragao       14110  \n",
       "66         England                  Estadio Do Dragao       75000  \n",
       "\n",
       "[67 rows x 8 columns]"
      ]
     },
     "execution_count": 4,
     "metadata": {},
     "output_type": "execute_result"
    }
   ],
   "source": [
    "df = pd.read_excel('d:/dev/data/csv/uefa_champions_winners.xlsx')\n",
    "df"
   ]
  },
  {
   "cell_type": "markdown",
   "metadata": {},
   "source": [
    "### Grouping data with Pandas\n",
    "\n",
    "The group by clause is an operation on DataFrames. A Series is a 1D object, so performing a group by operation on it is not very useful. However, it can be used to obtain distinct rows of the Series. The result of a group by operation is not a DataFrame but dict of DataFrame objects.\n",
    "\n",
    "Thus, the output saw above shows the season, the nations to which the winning and runner-up clubs belong, the score, the venue, and the attendance figures. Suppose we wanted to rank the nations by the number of European club championships they had won. We can do this by using groupby. First, we apply groupby to the DataFrame and see what is the type of the result:"
   ]
  },
  {
   "cell_type": "code",
   "execution_count": 5,
   "metadata": {},
   "outputs": [
    {
     "data": {
      "text/plain": [
       "<pandas.core.groupby.generic.DataFrameGroupBy object at 0x000002665AD66880>"
      ]
     },
     "execution_count": 5,
     "metadata": {},
     "output_type": "execute_result"
    }
   ],
   "source": [
    "nationsGrp =df.groupby(['Nation'])\n",
    "nationsGrp"
   ]
  },
  {
   "cell_type": "markdown",
   "metadata": {},
   "source": []
  },
  {
   "cell_type": "markdown",
   "metadata": {},
   "source": [
    "We notice that **nationsGrp** is an object type called _pandas.core.groupby.DataFrameGroupBy_. The column on which we use groupby is referred to as the key, and the rest of the values corresponding to those keys, are the ones inside each of them, which is merely an object called _dictionary_. We can see what the groups look like by using the groups attribute on the resulting _DataFrameGroupBy_ object:"
   ]
  },
  {
   "cell_type": "code",
   "execution_count": 6,
   "metadata": {},
   "outputs": [
    {
     "data": {
      "text/plain": [
       "{'England': [12, 21, 22, 23, 24, 25, 26, 28, 43, 49, 52, 56, 63, 65], 'France': [37], 'Germany': [18, 19, 20, 27, 41, 45, 57, 64], 'Italy': [7, 8, 9, 13, 29, 33, 34, 38, 40, 47, 51, 54], 'Netherlands': [14, 15, 16, 17, 32, 39], 'Portugal': [5, 6, 31, 48], 'Romania': [30], 'Scotland': [11], 'Spain': [0, 1, 2, 3, 4, 10, 36, 42, 44, 46, 50, 53, 55, 58, 59, 60, 61, 62, 66], 'Yugoslavia': [35]}"
      ]
     },
     "execution_count": 6,
     "metadata": {},
     "output_type": "execute_result"
    }
   ],
   "source": [
    "nationsGrp.groups"
   ]
  },
  {
   "cell_type": "markdown",
   "metadata": {},
   "source": [
    "As we told before, this is basically a dictionary that shows the unique groups and the axis labels corresponding to each group—in this case the row number. We can get for example whole information of the 62th index of the DataFrame, that corresponds to 2017-18 season final, which represented the 13th \"Orejona\" for Real Madrid disputed against Liverpool.\n",
    "\n",
    "The number of groups is obtained by using the *len()* function in the cell below:"
   ]
  },
  {
   "cell_type": "code",
   "execution_count": 7,
   "metadata": {},
   "outputs": [
    {
     "data": {
      "text/plain": [
       "Season                             2017–18\n",
       "Nation                               Spain\n",
       "Winners                        Real Madrid\n",
       "Score                                  4–1\n",
       "Runners-up                       Liverpool\n",
       "Runner-UpNation                    England\n",
       "Venue              Olimpiyskiy NCS Stadium\n",
       "Attendance                           61561\n",
       "Name: 62, dtype: object"
      ]
     },
     "execution_count": 7,
     "metadata": {},
     "output_type": "execute_result"
    }
   ],
   "source": [
    "Spain = df.iloc[62]\n",
    "Spain"
   ]
  },
  {
   "cell_type": "code",
   "execution_count": 8,
   "metadata": {},
   "outputs": [
    {
     "data": {
      "text/plain": [
       "10"
      ]
     },
     "execution_count": 8,
     "metadata": {},
     "output_type": "execute_result"
    }
   ],
   "source": [
    "len(nationsGrp.groups)"
   ]
  },
  {
   "cell_type": "markdown",
   "metadata": {},
   "source": [
    "Here the data we grouped previously determined by `DataFrameGroupBy object`, identified with the variable name _nationsGrp_, we'll use it to display some tables, but first we need to convert it to DataFrame, so we can create a new mesure and sort it ascending.\n",
    "\n",
    "In the table we note that the Nation with more wins in Champions is Spain, mostly due to the 13 a 5 Trophys from Real Madrid and Barcelona."
   ]
  },
  {
   "cell_type": "code",
   "execution_count": 9,
   "metadata": {},
   "outputs": [
    {
     "data": {
      "text/html": [
       "<div>\n",
       "<style scoped>\n",
       "    .dataframe tbody tr th:only-of-type {\n",
       "        vertical-align: middle;\n",
       "    }\n",
       "\n",
       "    .dataframe tbody tr th {\n",
       "        vertical-align: top;\n",
       "    }\n",
       "\n",
       "    .dataframe thead th {\n",
       "        text-align: right;\n",
       "    }\n",
       "</style>\n",
       "<table border=\"1\" class=\"dataframe\">\n",
       "  <thead>\n",
       "    <tr style=\"text-align: right;\">\n",
       "      <th></th>\n",
       "      <th>Champion</th>\n",
       "    </tr>\n",
       "    <tr>\n",
       "      <th>Nation</th>\n",
       "      <th></th>\n",
       "    </tr>\n",
       "  </thead>\n",
       "  <tbody>\n",
       "    <tr>\n",
       "      <th>Spain</th>\n",
       "      <td>19</td>\n",
       "    </tr>\n",
       "    <tr>\n",
       "      <th>England</th>\n",
       "      <td>14</td>\n",
       "    </tr>\n",
       "    <tr>\n",
       "      <th>Italy</th>\n",
       "      <td>12</td>\n",
       "    </tr>\n",
       "    <tr>\n",
       "      <th>Germany</th>\n",
       "      <td>8</td>\n",
       "    </tr>\n",
       "    <tr>\n",
       "      <th>Netherlands</th>\n",
       "      <td>6</td>\n",
       "    </tr>\n",
       "    <tr>\n",
       "      <th>Portugal</th>\n",
       "      <td>4</td>\n",
       "    </tr>\n",
       "    <tr>\n",
       "      <th>France</th>\n",
       "      <td>1</td>\n",
       "    </tr>\n",
       "    <tr>\n",
       "      <th>Romania</th>\n",
       "      <td>1</td>\n",
       "    </tr>\n",
       "    <tr>\n",
       "      <th>Scotland</th>\n",
       "      <td>1</td>\n",
       "    </tr>\n",
       "    <tr>\n",
       "      <th>Yugoslavia</th>\n",
       "      <td>1</td>\n",
       "    </tr>\n",
       "  </tbody>\n",
       "</table>\n",
       "</div>"
      ],
      "text/plain": [
       "             Champion\n",
       "Nation               \n",
       "Spain              19\n",
       "England            14\n",
       "Italy              12\n",
       "Germany             8\n",
       "Netherlands         6\n",
       "Portugal            4\n",
       "France              1\n",
       "Romania             1\n",
       "Scotland            1\n",
       "Yugoslavia          1"
      ]
     },
     "execution_count": 9,
     "metadata": {},
     "output_type": "execute_result"
    }
   ],
   "source": [
    "nationWins=nationsGrp.size().to_frame('Champion')\n",
    "NationsWinners=nationWins.sort_values(by='Champion', ascending=False)\n",
    "NationsWinners"
   ]
  },
  {
   "cell_type": "markdown",
   "metadata": {},
   "source": [
    "The _size()_ function returns a Series with the group names as the index and the size of each group. The _size()_ function is also an aggregation function.\n",
    "\n",
    "To do a further breakup of wins by country and club, we apply a **multicolumn groupby function** and then size() and sort():"
   ]
  },
  {
   "cell_type": "code",
   "execution_count": 10,
   "metadata": {},
   "outputs": [
    {
     "data": {
      "text/html": [
       "<div>\n",
       "<style scoped>\n",
       "    .dataframe tbody tr th:only-of-type {\n",
       "        vertical-align: middle;\n",
       "    }\n",
       "\n",
       "    .dataframe tbody tr th {\n",
       "        vertical-align: top;\n",
       "    }\n",
       "\n",
       "    .dataframe thead th {\n",
       "        text-align: right;\n",
       "    }\n",
       "</style>\n",
       "<table border=\"1\" class=\"dataframe\">\n",
       "  <thead>\n",
       "    <tr style=\"text-align: right;\">\n",
       "      <th></th>\n",
       "      <th></th>\n",
       "      <th>Champion</th>\n",
       "    </tr>\n",
       "    <tr>\n",
       "      <th>Nation</th>\n",
       "      <th>Winners</th>\n",
       "      <th></th>\n",
       "    </tr>\n",
       "  </thead>\n",
       "  <tbody>\n",
       "    <tr>\n",
       "      <th>Spain</th>\n",
       "      <th>Real Madrid</th>\n",
       "      <td>14</td>\n",
       "    </tr>\n",
       "    <tr>\n",
       "      <th>Italy</th>\n",
       "      <th>Milan</th>\n",
       "      <td>7</td>\n",
       "    </tr>\n",
       "    <tr>\n",
       "      <th>England</th>\n",
       "      <th>Liverpool</th>\n",
       "      <td>6</td>\n",
       "    </tr>\n",
       "    <tr>\n",
       "      <th>Germany</th>\n",
       "      <th>Bayern Munich</th>\n",
       "      <td>6</td>\n",
       "    </tr>\n",
       "    <tr>\n",
       "      <th>Spain</th>\n",
       "      <th>Barcelona</th>\n",
       "      <td>5</td>\n",
       "    </tr>\n",
       "    <tr>\n",
       "      <th>Netherlands</th>\n",
       "      <th>Ajax</th>\n",
       "      <td>4</td>\n",
       "    </tr>\n",
       "    <tr>\n",
       "      <th>England</th>\n",
       "      <th>Manchester United</th>\n",
       "      <td>3</td>\n",
       "    </tr>\n",
       "    <tr>\n",
       "      <th>Italy</th>\n",
       "      <th>Internazionale</th>\n",
       "      <td>3</td>\n",
       "    </tr>\n",
       "    <tr>\n",
       "      <th>Portugal</th>\n",
       "      <th>Benfica</th>\n",
       "      <td>2</td>\n",
       "    </tr>\n",
       "    <tr>\n",
       "      <th>England</th>\n",
       "      <th>Nottingham Forest</th>\n",
       "      <td>2</td>\n",
       "    </tr>\n",
       "    <tr>\n",
       "      <th>Italy</th>\n",
       "      <th>Juventus</th>\n",
       "      <td>2</td>\n",
       "    </tr>\n",
       "    <tr>\n",
       "      <th>England</th>\n",
       "      <th>Chelsea</th>\n",
       "      <td>2</td>\n",
       "    </tr>\n",
       "    <tr>\n",
       "      <th>Portugal</th>\n",
       "      <th>Porto</th>\n",
       "      <td>2</td>\n",
       "    </tr>\n",
       "    <tr>\n",
       "      <th>Scotland</th>\n",
       "      <th>Celtic</th>\n",
       "      <td>1</td>\n",
       "    </tr>\n",
       "    <tr>\n",
       "      <th>Romania</th>\n",
       "      <th>Steaua Bucure?ti</th>\n",
       "      <td>1</td>\n",
       "    </tr>\n",
       "    <tr>\n",
       "      <th>England</th>\n",
       "      <th>Aston Villa</th>\n",
       "      <td>1</td>\n",
       "    </tr>\n",
       "    <tr>\n",
       "      <th rowspan=\"2\" valign=\"top\">Netherlands</th>\n",
       "      <th>PSV Eindhoven</th>\n",
       "      <td>1</td>\n",
       "    </tr>\n",
       "    <tr>\n",
       "      <th>Feyenoord</th>\n",
       "      <td>1</td>\n",
       "    </tr>\n",
       "    <tr>\n",
       "      <th rowspan=\"2\" valign=\"top\">Germany</th>\n",
       "      <th>Hamburg</th>\n",
       "      <td>1</td>\n",
       "    </tr>\n",
       "    <tr>\n",
       "      <th>Borussia Dortmund</th>\n",
       "      <td>1</td>\n",
       "    </tr>\n",
       "    <tr>\n",
       "      <th>France</th>\n",
       "      <th>Marseille</th>\n",
       "      <td>1</td>\n",
       "    </tr>\n",
       "    <tr>\n",
       "      <th>Yugoslavia</th>\n",
       "      <th>Red Star Belgrade</th>\n",
       "      <td>1</td>\n",
       "    </tr>\n",
       "  </tbody>\n",
       "</table>\n",
       "</div>"
      ],
      "text/plain": [
       "                               Champion\n",
       "Nation      Winners                    \n",
       "Spain       Real Madrid              14\n",
       "Italy       Milan                     7\n",
       "England     Liverpool                 6\n",
       "Germany     Bayern Munich             6\n",
       "Spain       Barcelona                 5\n",
       "Netherlands Ajax                      4\n",
       "England     Manchester United         3\n",
       "Italy       Internazionale            3\n",
       "Portugal    Benfica                   2\n",
       "England     Nottingham Forest         2\n",
       "Italy       Juventus                  2\n",
       "England     Chelsea                   2\n",
       "Portugal    Porto                     2\n",
       "Scotland    Celtic                    1\n",
       "Romania     Steaua Bucure?ti          1\n",
       "England     Aston Villa               1\n",
       "Netherlands PSV Eindhoven             1\n",
       "            Feyenoord                 1\n",
       "Germany     Hamburg                   1\n",
       "            Borussia Dortmund         1\n",
       "France      Marseille                 1\n",
       "Yugoslavia  Red Star Belgrade         1"
      ]
     },
     "execution_count": 10,
     "metadata": {},
     "output_type": "execute_result"
    }
   ],
   "source": [
    "winners = df.groupby(['Nation','Winners']).size().to_frame('Champion')\n",
    "winnersUEFA = winners.sort_values(by='Champion', ascending=False)\n",
    "winnersUEFA"
   ]
  },
  {
   "cell_type": "markdown",
   "metadata": {},
   "source": [
    "A **multicolumn groupby** specifies more than one column to be used as the key by specifying the key columns as a list. Thus, we can see that the most successful club in this competition has been Real Madrid of Spain.\n",
    "\n",
    "We have quikly explored through this tutorial some ways we can used data analisys techniques, especifically one well known between data analysts which is _groupby_. You can also find much more other Pandas techniques to analyze in the official [documentation](https://pandas.pydata.org/pandas-docs/stable/reference/api/pandas.DataFrame.groupby.html)."
   ]
  },
  {
   "cell_type": "code",
   "execution_count": null,
   "metadata": {},
   "outputs": [],
   "source": []
  }
 ],
 "metadata": {
  "kernelspec": {
   "display_name": "Python 3",
   "language": "python",
   "name": "python3"
  },
  "language_info": {
   "codemirror_mode": {
    "name": "ipython",
    "version": 3
   },
   "file_extension": ".py",
   "mimetype": "text/x-python",
   "name": "python",
   "nbconvert_exporter": "python",
   "pygments_lexer": "ipython3",
   "version": "3.8.8"
  }
 },
 "nbformat": 4,
 "nbformat_minor": 4
}
