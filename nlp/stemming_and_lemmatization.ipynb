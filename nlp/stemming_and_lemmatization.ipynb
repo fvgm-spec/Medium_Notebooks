{
 "cells": [
  {
   "attachments": {},
   "cell_type": "markdown",
   "id": "c0a82d89",
   "metadata": {},
   "source": [
    "### NLP stemming and lemmatization techniques"
   ]
  },
  {
   "cell_type": "code",
   "execution_count": 38,
   "id": "9a5f2f0e",
   "metadata": {},
   "outputs": [
    {
     "name": "stderr",
     "output_type": "stream",
     "text": [
      "[nltk_data] Downloading package genesis to\n",
      "[nltk_data]     C:\\Users\\felix\\AppData\\Roaming\\nltk_data...\n",
      "[nltk_data]   Package genesis is already up-to-date!\n",
      "[nltk_data] Downloading package stopwords to\n",
      "[nltk_data]     C:\\Users\\felix\\AppData\\Roaming\\nltk_data...\n",
      "[nltk_data]   Package stopwords is already up-to-date!\n",
      "[nltk_data] Downloading package punkt to\n",
      "[nltk_data]     C:\\Users\\felix\\AppData\\Roaming\\nltk_data...\n",
      "[nltk_data]   Package punkt is already up-to-date!\n",
      "[nltk_data] Downloading package wordnet to\n",
      "[nltk_data]     C:\\Users\\felix\\AppData\\Roaming\\nltk_data...\n",
      "[nltk_data]   Package wordnet is already up-to-date!\n"
     ]
    }
   ],
   "source": [
    "#Importing required packages\n",
    "import nltk\n",
    "\n",
    "# Load the Genesis text from the NLTK corpora\n",
    "nltk.download('genesis')\n",
    "nltk.download('stopwords')\n",
    "nltk.download('punkt')\n",
    "nltk.download('wordnet')\n",
    "from nltk.stem import WordNetLemmatizer\n",
    "from nltk.stem.porter import PorterStemmer\n",
    "from nltk.corpus import stopwords\n",
    "genesis_text = nltk.corpus.genesis.raw()\n",
    "\n",
    "# Initialize the Porter stemmer\n",
    "stemmer = PorterStemmer()"
   ]
  },
  {
   "cell_type": "code",
   "execution_count": 39,
   "id": "453d9197",
   "metadata": {},
   "outputs": [
    {
     "name": "stdout",
     "output_type": "stream",
     "text": [
      "['In the beginning God created the heaven and the earth.', 'And the earth was without form, and void; and darkness was upon the face of the deep.']\n"
     ]
    }
   ],
   "source": [
    "# Split the text into paragraphs\n",
    "paragraphs = nltk.tokenize.sent_tokenize(genesis_text)\n",
    "# Remove newlines from the paragraphs\n",
    "clean_paragraphs = [p.replace('\\n', ' ').strip() for p in paragraphs]\n",
    "# Select the first 10 paragraphs\n",
    "sentences = clean_paragraphs[:2]\n",
    "# Print the selected paragraphs\n",
    "print(sentences)"
   ]
  },
  {
   "cell_type": "code",
   "execution_count": 40,
   "id": "5ffa84a9",
   "metadata": {},
   "outputs": [
    {
     "name": "stdout",
     "output_type": "stream",
     "text": [
      "['in the beginning god created the heaven and the earth.', 'and the earth was without form, and void; and darkness was upon the face of the deep.']\n"
     ]
    }
   ],
   "source": [
    "# Apply stemming to the words\n",
    "stemmed_sentences = [stemmer.stem(sentence) for sentence in sentences]\n",
    "print(stemmed_sentences)"
   ]
  },
  {
   "cell_type": "code",
   "execution_count": 36,
   "id": "f42e45c6",
   "metadata": {},
   "outputs": [],
   "source": [
    "#Lemmatization\n",
    "lemmatizer = WordNetLemmatizer()\n",
    "for i in range(len(sentences)):\n",
    "    words = nltk.word_tokenize(sentences[i])\n",
    "    words = [lemmatizer.lemmatize(word) for word in words if word not in set(stopwords.words('english'))]\n",
    "    sentences[i] = ' '.join(words)"
   ]
  },
  {
   "cell_type": "code",
   "execution_count": 37,
   "id": "fa7647d0",
   "metadata": {},
   "outputs": [
    {
     "name": "stdout",
     "output_type": "stream",
     "text": [
      "['In beginning God created heaven earth .', 'And earth without form , void ; darkness upon face deep .']\n"
     ]
    }
   ],
   "source": [
    "print(sentences)"
   ]
  },
  {
   "cell_type": "code",
   "execution_count": null,
   "id": "046c43b5",
   "metadata": {},
   "outputs": [],
   "source": []
  }
 ],
 "metadata": {
  "kernelspec": {
   "display_name": "Python 3 (ipykernel)",
   "language": "python",
   "name": "python3"
  },
  "language_info": {
   "codemirror_mode": {
    "name": "ipython",
    "version": 3
   },
   "file_extension": ".py",
   "mimetype": "text/x-python",
   "name": "python",
   "nbconvert_exporter": "python",
   "pygments_lexer": "ipython3",
   "version": "3.9.16"
  }
 },
 "nbformat": 4,
 "nbformat_minor": 5
}
