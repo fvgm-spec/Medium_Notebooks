{
 "cells": [
  {
   "cell_type": "code",
   "execution_count": 65,
   "id": "45c6c4f4-ff14-4928-b637-dc6a31fed588",
   "metadata": {},
   "outputs": [],
   "source": [
    "#Importing required packages\n",
    "import nltk\n",
    "import pandas as pd\n",
    "from nltk.corpus import names\n",
    "import random"
   ]
  },
  {
   "cell_type": "code",
   "execution_count": 66,
   "id": "c5e81a12",
   "metadata": {},
   "outputs": [],
   "source": [
    "#Importing NLTK sample datasets\n",
    "from nltk.book import *"
   ]
  },
  {
   "cell_type": "code",
   "execution_count": 67,
   "id": "26e63550",
   "metadata": {},
   "outputs": [
    {
     "name": "stdout",
     "output_type": "stream",
     "text": [
      "0.744\n",
      "Most Informative Features\n",
      "             last_letter = 'k'              male : female =     44.8 : 1.0\n",
      "             last_letter = 'a'            female : male   =     34.8 : 1.0\n",
      "             last_letter = 'p'              male : female =     19.6 : 1.0\n",
      "             last_letter = 'f'              male : female =     16.5 : 1.0\n",
      "             last_letter = 'v'              male : female =     10.4 : 1.0\n",
      "             last_letter = 'd'              male : female =      9.5 : 1.0\n",
      "             last_letter = 'm'              male : female =      9.4 : 1.0\n",
      "             last_letter = 'o'              male : female =      7.9 : 1.0\n",
      "             last_letter = 'r'              male : female =      6.6 : 1.0\n",
      "             last_letter = 'w'              male : female =      6.5 : 1.0\n",
      "None\n"
     ]
    }
   ],
   "source": [
    "#Defining Classifier function\n",
    "def gender_features(word):\n",
    "    return {'last_letter': word[-1]}\n",
    "\n",
    "names = ([(name, 'male') for name in names.words('male.txt')] + \n",
    "         [(name, 'female') for name in names.words('female.txt')])\n",
    "\n",
    "random.shuffle(names)\n",
    "\n",
    "featuresets = [(gender_features(n), g) for (n,g) in names]\n",
    "train_set, test_set = featuresets[500:], featuresets[:500]\n",
    "\n",
    "classifier = nltk.NaiveBayesClassifier.train(train_set)\n",
    "\n",
    "print(nltk.classify.accuracy(classifier, test_set))\n",
    "print(classifier.show_most_informative_features(10))"
   ]
  },
  {
   "cell_type": "code",
   "execution_count": 57,
   "id": "0b573941",
   "metadata": {},
   "outputs": [],
   "source": [
    "#Custom function to generate basic statistics\n",
    "def gender_stats(filename:str):\n",
    "    dataset_lenght = len(names.words(filename))\n",
    "    first_10_names = names.words(filename)[:10]\n",
    "    last_letters = [name[-1] for name in names.words(filename)]\n",
    "    last_letter_freq = nltk.FreqDist(last_letters)\n",
    "    \n",
    "    print(f'Dataset lenght is: {dataset_lenght} \\nThe first names of the dataset are: {first_10_names} \\nLast letters of the names of this dataset are: {last_letter_freq.most_common(5)}')\n",
    "    "
   ]
  },
  {
   "cell_type": "code",
   "execution_count": 58,
   "id": "5ec947fd",
   "metadata": {},
   "outputs": [
    {
     "name": "stdout",
     "output_type": "stream",
     "text": [
      "Dataset lenght is: 5001 \n",
      "The first names of the dataset are: ['Abagael', 'Abagail', 'Abbe', 'Abbey', 'Abbi', 'Abbie', 'Abby', 'Abigael', 'Abigail', 'Abigale'] \n",
      "Last letters of the names of this dataset are: [('a', 1773), ('e', 1432), ('y', 461), ('n', 386), ('i', 317)]\n"
     ]
    }
   ],
   "source": [
    "gender_stats(\"female.txt\")"
   ]
  },
  {
   "cell_type": "code",
   "execution_count": 59,
   "id": "8b5b6e84",
   "metadata": {},
   "outputs": [
    {
     "name": "stdout",
     "output_type": "stream",
     "text": [
      "Dataset lenght is: 2943 \n",
      "The first names of the dataset are: ['Aamir', 'Aaron', 'Abbey', 'Abbie', 'Abbot', 'Abbott', 'Abby', 'Abdel', 'Abdul', 'Abdulkarim'] \n",
      "Last letters of the names of this dataset are: [('n', 478), ('e', 468), ('y', 332), ('s', 230), ('d', 228)]\n"
     ]
    }
   ],
   "source": [
    "gender_stats(\"male.txt\")"
   ]
  },
  {
   "cell_type": "code",
   "execution_count": 29,
   "id": "f79029f0",
   "metadata": {},
   "outputs": [],
   "source": [
    "# Read the female names file as a list of strings\n",
    "female_names = nltk.corpus.names.words('female.txt')\n",
    "male_names = nltk.corpus.names.words('male.txt')\n",
    "\n",
    "# Create a pandas DataFrame from the list of names\n",
    "df_female = pd.DataFrame({'name': female_names})\n",
    "df_male = pd.DataFrame({'name': male_names})"
   ]
  },
  {
   "cell_type": "code",
   "execution_count": 36,
   "id": "fa97b85d",
   "metadata": {},
   "outputs": [
    {
     "data": {
      "text/plain": [
       "True"
      ]
     },
     "execution_count": 36,
     "metadata": {},
     "output_type": "execute_result"
    }
   ],
   "source": [
    "True if 'Joe' in male_names else False"
   ]
  },
  {
   "cell_type": "code",
   "execution_count": 44,
   "id": "d06e74c6",
   "metadata": {},
   "outputs": [
    {
     "data": {
      "text/plain": [
       "False"
      ]
     },
     "execution_count": 44,
     "metadata": {},
     "output_type": "execute_result"
    }
   ],
   "source": [
    "True if 'Shrek' in male_names else False"
   ]
  },
  {
   "cell_type": "code",
   "execution_count": 46,
   "id": "b1b26808",
   "metadata": {},
   "outputs": [
    {
     "data": {
      "text/plain": [
       "True"
      ]
     },
     "execution_count": 46,
     "metadata": {},
     "output_type": "execute_result"
    }
   ],
   "source": [
    "True if 'Alix' in female_names else False"
   ]
  },
  {
   "cell_type": "code",
   "execution_count": 35,
   "id": "7939b028",
   "metadata": {},
   "outputs": [
    {
     "data": {
      "text/plain": [
       "False"
      ]
     },
     "execution_count": 35,
     "metadata": {},
     "output_type": "execute_result"
    }
   ],
   "source": [
    "True if 'Vanellope' in female_names else False"
   ]
  },
  {
   "cell_type": "code",
   "execution_count": 39,
   "id": "7b449290",
   "metadata": {},
   "outputs": [
    {
     "data": {
      "text/plain": [
       "'female'"
      ]
     },
     "execution_count": 39,
     "metadata": {},
     "output_type": "execute_result"
    }
   ],
   "source": [
    "#Testing the classifier with a female name not in the female.txt dataset\n",
    "classifier.classify(gender_features('Vanellope'))"
   ]
  },
  {
   "cell_type": "code",
   "execution_count": 60,
   "id": "9d5ad3ff",
   "metadata": {},
   "outputs": [],
   "source": [
    "#Testing the classifier with a names that do not in the datasets\n",
    "name = input(\"Enter a name: \")"
   ]
  },
  {
   "cell_type": "code",
   "execution_count": 61,
   "id": "cef9abfb",
   "metadata": {},
   "outputs": [
    {
     "name": "stdout",
     "output_type": "stream",
     "text": [
      "Gender: male\n"
     ]
    }
   ],
   "source": [
    "gender = classifier.classify(gender_features(name))\n",
    "print(\"Gender:\", gender)"
   ]
  },
  {
   "cell_type": "code",
   "execution_count": null,
   "id": "557795c5",
   "metadata": {},
   "outputs": [],
   "source": []
  }
 ],
 "metadata": {
  "kernelspec": {
   "display_name": "nlp",
   "language": "python",
   "name": "python3"
  },
  "language_info": {
   "codemirror_mode": {
    "name": "ipython",
    "version": 3
   },
   "file_extension": ".py",
   "mimetype": "text/x-python",
   "name": "python",
   "nbconvert_exporter": "python",
   "pygments_lexer": "ipython3",
   "version": "3.9.16"
  },
  "vscode": {
   "interpreter": {
    "hash": "7b4184d1a2afba5e01bfe057039d46a2d82c1be8e9d77c83ee96929ee4b72c0a"
   }
  }
 },
 "nbformat": 4,
 "nbformat_minor": 5
}
