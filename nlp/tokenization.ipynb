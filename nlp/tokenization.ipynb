{
 "cells": [
  {
   "cell_type": "code",
   "execution_count": 6,
   "id": "5b8cd6c7",
   "metadata": {},
   "outputs": [],
   "source": [
    "import re"
   ]
  },
  {
   "cell_type": "code",
   "execution_count": null,
   "id": "198980ea",
   "metadata": {},
   "outputs": [],
   "source": [
    "text_by_word = \"\"\"The quick black fox jumped over the red dog.\"\"\"\n",
    "text_by_sent = \"\"\"The quick black fox jumped over the red dog. The dog was not scared.\"\"\""
   ]
  },
  {
   "cell_type": "markdown",
   "id": "c71cb6cd",
   "metadata": {},
   "source": [
    "### Using Python's built in *split()* method "
   ]
  },
  {
   "cell_type": "markdown",
   "id": "4c4303b7",
   "metadata": {},
   "source": [
    "#### Tokenizing by word"
   ]
  },
  {
   "cell_type": "code",
   "execution_count": 12,
   "id": "60ff1347",
   "metadata": {},
   "outputs": [
    {
     "name": "stdout",
     "output_type": "stream",
     "text": [
      "['The', 'quick', 'black', 'fox', 'jumped', 'over', 'the', 'red', 'dog.']\n"
     ]
    }
   ],
   "source": [
    "# Split text by whitespace\n",
    "tokens = text_by_word.split()\n",
    "print(tokens)"
   ]
  },
  {
   "cell_type": "markdown",
   "id": "63cb424c",
   "metadata": {},
   "source": [
    "#### Tokenizing by sentence"
   ]
  },
  {
   "cell_type": "code",
   "execution_count": 5,
   "id": "5cf3bfa2",
   "metadata": {},
   "outputs": [
    {
     "data": {
      "text/plain": [
       "['The quick black fox jumped over the red dog', 'The dog was not scared.']"
      ]
     },
     "execution_count": 5,
     "metadata": {},
     "output_type": "execute_result"
    }
   ],
   "source": [
    "text_by_sent.split(\". \") # Note the space after the full stop makes sure that we dont get empty element at the end of list."
   ]
  },
  {
   "cell_type": "markdown",
   "id": "32856211",
   "metadata": {},
   "source": [
    "### Using regex"
   ]
  },
  {
   "cell_type": "markdown",
   "id": "f8b53f03",
   "metadata": {},
   "source": [
    "#### Tokenizing by word"
   ]
  },
  {
   "cell_type": "code",
   "execution_count": 10,
   "id": "b1350f5b",
   "metadata": {},
   "outputs": [
    {
     "name": "stdout",
     "output_type": "stream",
     "text": [
      "['The', 'quick', 'black', 'fox', 'jumped', 'over', 'the', 'red', 'dog']\n"
     ]
    }
   ],
   "source": [
    "tokens = re.findall(\"[\\w]+\", text_by_word)\n",
    "print(tokens)"
   ]
  },
  {
   "cell_type": "markdown",
   "id": "57006108",
   "metadata": {},
   "source": [
    "#### Tokenizing by sentence"
   ]
  },
  {
   "cell_type": "code",
   "execution_count": 11,
   "id": "27fe6d31",
   "metadata": {},
   "outputs": [
    {
     "data": {
      "text/plain": [
       "['The quick black fox jumped over the red dog', 'The dog was not scared.']"
      ]
     },
     "execution_count": 11,
     "metadata": {},
     "output_type": "execute_result"
    }
   ],
   "source": [
    "tokens = re.compile('[.!?] ').split(text_by_sent) # Using compile method to combine RegEx patterns\n",
    "tokens"
   ]
  },
  {
   "cell_type": "code",
   "execution_count": null,
   "id": "200c6a57",
   "metadata": {},
   "outputs": [],
   "source": []
  }
 ],
 "metadata": {
  "kernelspec": {
   "display_name": "Python 3 (ipykernel)",
   "language": "python",
   "name": "python3"
  },
  "language_info": {
   "codemirror_mode": {
    "name": "ipython",
    "version": 3
   },
   "file_extension": ".py",
   "mimetype": "text/x-python",
   "name": "python",
   "nbconvert_exporter": "python",
   "pygments_lexer": "ipython3",
   "version": "3.10.6"
  }
 },
 "nbformat": 4,
 "nbformat_minor": 5
}
