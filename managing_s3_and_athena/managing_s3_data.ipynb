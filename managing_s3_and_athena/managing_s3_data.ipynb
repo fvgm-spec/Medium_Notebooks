{
 "cells": [
  {
   "cell_type": "markdown",
   "id": "512a41b4",
   "metadata": {},
   "source": [
    "## Ingesting data from S3 to Amazon Athena through boto3"
   ]
  },
  {
   "cell_type": "code",
   "execution_count": 101,
   "id": "5a4f8c74",
   "metadata": {},
   "outputs": [],
   "source": [
    "##Importing required libraries\n",
    "import pandas as pd\n",
    "import pandas_datareader.data as web\n",
    "import numpy as np\n",
    "import datetime\n",
    "import logging\n",
    "import time\n",
    "import os\n",
    "import boto3\n",
    "from botocore.exceptions import ClientError"
   ]
  },
  {
   "cell_type": "markdown",
   "id": "34bdd9a5",
   "metadata": {},
   "source": [
    "### Installing dependencies"
   ]
  },
  {
   "cell_type": "code",
   "execution_count": 8,
   "id": "0b7165a0",
   "metadata": {},
   "outputs": [
    {
     "name": "stdout",
     "output_type": "stream",
     "text": [
      "Defaulting to user installation because normal site-packages is not writeable\n",
      "Collecting pandas\n",
      "  Downloading pandas-1.5.2-cp310-cp310-manylinux_2_17_x86_64.manylinux2014_x86_64.whl (12.1 MB)\n",
      "\u001b[2K     \u001b[90m━━━━━━━━━━━━━━━━━━━━━━━━━━━━━━━━━━━━━━━━\u001b[0m \u001b[32m12.1/12.1 MB\u001b[0m \u001b[31m16.0 MB/s\u001b[0m eta \u001b[36m0:00:00\u001b[0m00:01\u001b[0m00:01\u001b[0m\n",
      "\u001b[?25hRequirement already satisfied: numpy>=1.21.0 in /home/felix/.local/lib/python3.10/site-packages (from pandas) (1.23.5)\n",
      "Requirement already satisfied: pytz>=2020.1 in /usr/lib/python3/dist-packages (from pandas) (2022.1)\n",
      "Requirement already satisfied: python-dateutil>=2.8.1 in /home/felix/.local/lib/python3.10/site-packages (from pandas) (2.8.2)\n",
      "Requirement already satisfied: six>=1.5 in /usr/lib/python3/dist-packages (from python-dateutil>=2.8.1->pandas) (1.16.0)\n",
      "Installing collected packages: pandas\n",
      "Successfully installed pandas-1.5.2\n"
     ]
    }
   ],
   "source": [
    "!pip3 install pandas"
   ]
  },
  {
   "cell_type": "code",
   "execution_count": 10,
   "id": "ccbfd725",
   "metadata": {},
   "outputs": [
    {
     "name": "stdout",
     "output_type": "stream",
     "text": [
      "Defaulting to user installation because normal site-packages is not writeable\n",
      "Collecting pandas-datareader\n",
      "  Using cached pandas_datareader-0.10.0-py3-none-any.whl (109 kB)\n",
      "Requirement already satisfied: pandas>=0.23 in /home/felix/.local/lib/python3.10/site-packages (from pandas-datareader) (1.5.2)\n",
      "Requirement already satisfied: requests>=2.19.0 in /usr/lib/python3/dist-packages (from pandas-datareader) (2.25.1)\n",
      "Requirement already satisfied: lxml in /usr/lib/python3/dist-packages (from pandas-datareader) (4.8.0)\n",
      "Requirement already satisfied: numpy>=1.21.0 in /home/felix/.local/lib/python3.10/site-packages (from pandas>=0.23->pandas-datareader) (1.23.5)\n",
      "Requirement already satisfied: python-dateutil>=2.8.1 in /home/felix/.local/lib/python3.10/site-packages (from pandas>=0.23->pandas-datareader) (2.8.2)\n",
      "Requirement already satisfied: pytz>=2020.1 in /usr/lib/python3/dist-packages (from pandas>=0.23->pandas-datareader) (2022.1)\n",
      "Requirement already satisfied: six>=1.5 in /usr/lib/python3/dist-packages (from python-dateutil>=2.8.1->pandas>=0.23->pandas-datareader) (1.16.0)\n",
      "Installing collected packages: pandas-datareader\n",
      "Successfully installed pandas-datareader-0.10.0\n"
     ]
    }
   ],
   "source": [
    "!pip3 install pandas-datareader"
   ]
  },
  {
   "cell_type": "code",
   "execution_count": 77,
   "id": "4c5615f5",
   "metadata": {},
   "outputs": [],
   "source": [
    "##Setting variables\n",
    "start_time = datetime.datetime(2022, 1, 1)\n",
    "# today\n",
    "end_time = datetime.datetime.now().date().isoformat()"
   ]
  },
  {
   "cell_type": "code",
   "execution_count": 13,
   "id": "5ee3dc0b",
   "metadata": {},
   "outputs": [],
   "source": [
    "##Setting ticker names\n",
    "tickers  = ['AAPL','TSLA','GOOGL','NFLX']"
   ]
  },
  {
   "cell_type": "markdown",
   "id": "626f6702",
   "metadata": {},
   "source": [
    "### Getting data from yahoo API"
   ]
  },
  {
   "cell_type": "code",
   "execution_count": 105,
   "id": "6c02a736",
   "metadata": {},
   "outputs": [],
   "source": [
    "def getting_data_yahoo(ticker,file_name,path=data_path):\n",
    "    # yahoo gives only daily historical data\n",
    "    connected = False\n",
    "    while not connected:\n",
    "        try:\n",
    "            df = web.get_data_yahoo(ticker, start=start_time, end=end_time)\n",
    "            connected = True\n",
    "            print('connected to yahoo')\n",
    "        except Exception as e:\n",
    "            print(\"type error: \" + str(e))\n",
    "            time.sleep( 5 )\n",
    "            pass   \n",
    "\n",
    "    # use numerical integer index instead of date    \n",
    "    df = df.reset_index()\n",
    "    df.to_csv(f'{file_name}.csv',index=False)"
   ]
  },
  {
   "cell_type": "code",
   "execution_count": 106,
   "id": "22bcabdb",
   "metadata": {},
   "outputs": [
    {
     "name": "stdout",
     "output_type": "stream",
     "text": [
      "connected to yahoo\n",
      "connected to yahoo\n",
      "connected to yahoo\n",
      "connected to yahoo\n"
     ]
    }
   ],
   "source": [
    "df1 = getting_data_yahoo(tickers[0],tickers[0])\n",
    "df2 = getting_data_yahoo(tickers[1],tickers[1])\n",
    "df3 = getting_data_yahoo(tickers[2],tickers[2])\n",
    "df4 = getting_data_yahoo(tickers[3],tickers[3])"
   ]
  },
  {
   "cell_type": "code",
   "execution_count": 18,
   "id": "58fa11b0",
   "metadata": {},
   "outputs": [
    {
     "data": {
      "text/html": [
       "<div>\n",
       "<style scoped>\n",
       "    .dataframe tbody tr th:only-of-type {\n",
       "        vertical-align: middle;\n",
       "    }\n",
       "\n",
       "    .dataframe tbody tr th {\n",
       "        vertical-align: top;\n",
       "    }\n",
       "\n",
       "    .dataframe thead th {\n",
       "        text-align: right;\n",
       "    }\n",
       "</style>\n",
       "<table border=\"1\" class=\"dataframe\">\n",
       "  <thead>\n",
       "    <tr style=\"text-align: right;\">\n",
       "      <th></th>\n",
       "      <th>Date</th>\n",
       "      <th>High</th>\n",
       "      <th>Low</th>\n",
       "      <th>Open</th>\n",
       "      <th>Close</th>\n",
       "      <th>Volume</th>\n",
       "      <th>Adj Close</th>\n",
       "    </tr>\n",
       "  </thead>\n",
       "  <tbody>\n",
       "    <tr>\n",
       "      <th>0</th>\n",
       "      <td>2022-01-03</td>\n",
       "      <td>182.880005</td>\n",
       "      <td>177.710007</td>\n",
       "      <td>177.830002</td>\n",
       "      <td>182.009995</td>\n",
       "      <td>104487900.0</td>\n",
       "      <td>180.959732</td>\n",
       "    </tr>\n",
       "    <tr>\n",
       "      <th>1</th>\n",
       "      <td>2022-01-04</td>\n",
       "      <td>182.940002</td>\n",
       "      <td>179.119995</td>\n",
       "      <td>182.630005</td>\n",
       "      <td>179.699997</td>\n",
       "      <td>99310400.0</td>\n",
       "      <td>178.663071</td>\n",
       "    </tr>\n",
       "    <tr>\n",
       "      <th>2</th>\n",
       "      <td>2022-01-05</td>\n",
       "      <td>180.169998</td>\n",
       "      <td>174.639999</td>\n",
       "      <td>179.610001</td>\n",
       "      <td>174.919998</td>\n",
       "      <td>94537600.0</td>\n",
       "      <td>173.910660</td>\n",
       "    </tr>\n",
       "    <tr>\n",
       "      <th>3</th>\n",
       "      <td>2022-01-06</td>\n",
       "      <td>175.300003</td>\n",
       "      <td>171.639999</td>\n",
       "      <td>172.699997</td>\n",
       "      <td>172.000000</td>\n",
       "      <td>96904000.0</td>\n",
       "      <td>171.007507</td>\n",
       "    </tr>\n",
       "    <tr>\n",
       "      <th>4</th>\n",
       "      <td>2022-01-07</td>\n",
       "      <td>174.139999</td>\n",
       "      <td>171.029999</td>\n",
       "      <td>172.889999</td>\n",
       "      <td>172.169998</td>\n",
       "      <td>86709100.0</td>\n",
       "      <td>171.176514</td>\n",
       "    </tr>\n",
       "    <tr>\n",
       "      <th>...</th>\n",
       "      <td>...</td>\n",
       "      <td>...</td>\n",
       "      <td>...</td>\n",
       "      <td>...</td>\n",
       "      <td>...</td>\n",
       "      <td>...</td>\n",
       "      <td>...</td>\n",
       "    </tr>\n",
       "    <tr>\n",
       "      <th>228</th>\n",
       "      <td>2022-11-29</td>\n",
       "      <td>144.809998</td>\n",
       "      <td>140.350006</td>\n",
       "      <td>144.289993</td>\n",
       "      <td>141.169998</td>\n",
       "      <td>83763800.0</td>\n",
       "      <td>141.169998</td>\n",
       "    </tr>\n",
       "    <tr>\n",
       "      <th>229</th>\n",
       "      <td>2022-11-30</td>\n",
       "      <td>148.720001</td>\n",
       "      <td>140.550003</td>\n",
       "      <td>141.399994</td>\n",
       "      <td>148.029999</td>\n",
       "      <td>111224400.0</td>\n",
       "      <td>148.029999</td>\n",
       "    </tr>\n",
       "    <tr>\n",
       "      <th>230</th>\n",
       "      <td>2022-12-01</td>\n",
       "      <td>149.130005</td>\n",
       "      <td>146.610001</td>\n",
       "      <td>148.210007</td>\n",
       "      <td>148.309998</td>\n",
       "      <td>71250400.0</td>\n",
       "      <td>148.309998</td>\n",
       "    </tr>\n",
       "    <tr>\n",
       "      <th>231</th>\n",
       "      <td>2022-12-02</td>\n",
       "      <td>148.000000</td>\n",
       "      <td>145.649994</td>\n",
       "      <td>145.960007</td>\n",
       "      <td>147.809998</td>\n",
       "      <td>65421400.0</td>\n",
       "      <td>147.809998</td>\n",
       "    </tr>\n",
       "    <tr>\n",
       "      <th>232</th>\n",
       "      <td>2022-12-05</td>\n",
       "      <td>150.915695</td>\n",
       "      <td>145.779999</td>\n",
       "      <td>147.770004</td>\n",
       "      <td>146.630005</td>\n",
       "      <td>66117071.0</td>\n",
       "      <td>146.630005</td>\n",
       "    </tr>\n",
       "  </tbody>\n",
       "</table>\n",
       "<p>233 rows × 7 columns</p>\n",
       "</div>"
      ],
      "text/plain": [
       "          Date        High         Low        Open       Close       Volume  \\\n",
       "0   2022-01-03  182.880005  177.710007  177.830002  182.009995  104487900.0   \n",
       "1   2022-01-04  182.940002  179.119995  182.630005  179.699997   99310400.0   \n",
       "2   2022-01-05  180.169998  174.639999  179.610001  174.919998   94537600.0   \n",
       "3   2022-01-06  175.300003  171.639999  172.699997  172.000000   96904000.0   \n",
       "4   2022-01-07  174.139999  171.029999  172.889999  172.169998   86709100.0   \n",
       "..         ...         ...         ...         ...         ...          ...   \n",
       "228 2022-11-29  144.809998  140.350006  144.289993  141.169998   83763800.0   \n",
       "229 2022-11-30  148.720001  140.550003  141.399994  148.029999  111224400.0   \n",
       "230 2022-12-01  149.130005  146.610001  148.210007  148.309998   71250400.0   \n",
       "231 2022-12-02  148.000000  145.649994  145.960007  147.809998   65421400.0   \n",
       "232 2022-12-05  150.915695  145.779999  147.770004  146.630005   66117071.0   \n",
       "\n",
       "      Adj Close  \n",
       "0    180.959732  \n",
       "1    178.663071  \n",
       "2    173.910660  \n",
       "3    171.007507  \n",
       "4    171.176514  \n",
       "..          ...  \n",
       "228  141.169998  \n",
       "229  148.029999  \n",
       "230  148.309998  \n",
       "231  147.809998  \n",
       "232  146.630005  \n",
       "\n",
       "[233 rows x 7 columns]"
      ]
     },
     "execution_count": 18,
     "metadata": {},
     "output_type": "execute_result"
    }
   ],
   "source": [
    "df1"
   ]
  },
  {
   "cell_type": "code",
   "execution_count": null,
   "id": "fc718645",
   "metadata": {},
   "outputs": [],
   "source": [
    "##Getting time of your AWS service\n",
    "!curl http://s3.amazonaws.com -v"
   ]
  },
  {
   "cell_type": "code",
   "execution_count": null,
   "id": "078ccc57",
   "metadata": {},
   "outputs": [],
   "source": [
    "##Getting your system date\n",
    "!date -u"
   ]
  },
  {
   "cell_type": "markdown",
   "id": "cc79b63f",
   "metadata": {},
   "source": [
    "### Getting S3 resources"
   ]
  },
  {
   "cell_type": "code",
   "execution_count": 113,
   "id": "91648b30",
   "metadata": {},
   "outputs": [],
   "source": [
    "##Defining S3 client\n",
    "s3 = boto3.client('s3')"
   ]
  },
  {
   "cell_type": "code",
   "execution_count": 114,
   "id": "b9ec027c",
   "metadata": {},
   "outputs": [],
   "source": [
    "##Getting buckets data\n",
    "def getting_bucket_data(client=s3):\n",
    "    ##Getting response from S3 client\n",
    "    r = client.list_buckets()\n",
    "    ##Listing AWS buckets\n",
    "    for bucket in r['Buckets']:\n",
    "        bucketName = bucket[\"Name\"]\n",
    "        \n",
    "    return bucketName"
   ]
  },
  {
   "cell_type": "code",
   "execution_count": 115,
   "id": "54b2ea54",
   "metadata": {},
   "outputs": [],
   "source": [
    "buckets = getting_bucket_data()"
   ]
  },
  {
   "cell_type": "code",
   "execution_count": 116,
   "id": "787510ed",
   "metadata": {},
   "outputs": [
    {
     "data": {
      "text/plain": [
       "'yahoo-finance-bckt-1201'"
      ]
     },
     "execution_count": 116,
     "metadata": {},
     "output_type": "execute_result"
    }
   ],
   "source": [
    "buckets"
   ]
  },
  {
   "cell_type": "code",
   "execution_count": 117,
   "id": "1352d2fd",
   "metadata": {},
   "outputs": [
    {
     "name": "stdout",
     "output_type": "stream",
     "text": [
      "{'ResponseMetadata': {'RequestId': '75TBEWCT6FHX2DXW', 'HostId': 'wdeCgQUybolxN++p8igX/qSYJhky5ZNeT7TQ7xMU0iJjKrH6y9o/zkxyrYBYzWmViK1lD+/SLTM=', 'HTTPStatusCode': 200, 'HTTPHeaders': {'x-amz-id-2': 'wdeCgQUybolxN++p8igX/qSYJhky5ZNeT7TQ7xMU0iJjKrH6y9o/zkxyrYBYzWmViK1lD+/SLTM=', 'x-amz-request-id': '75TBEWCT6FHX2DXW', 'date': 'Tue, 06 Dec 2022 19:26:43 GMT', 'content-type': 'application/xml', 'transfer-encoding': 'chunked', 'server': 'AmazonS3'}, 'RetryAttempts': 0}, 'Buckets': [{'Name': 'yahoo-finance-bckt-1201', 'CreationDate': datetime.datetime(2022, 12, 1, 12, 20, 50, tzinfo=tzutc())}], 'Owner': {'DisplayName': 'felixmlb', 'ID': '9402830493660c37d25355e863da4afacaea8c554644b78d09231ef66877871f'}}\n"
     ]
    }
   ],
   "source": [
    "print(r)"
   ]
  },
  {
   "cell_type": "markdown",
   "id": "22bfd277",
   "metadata": {},
   "source": [
    "### Uploading data to bucket"
   ]
  },
  {
   "cell_type": "code",
   "execution_count": 118,
   "id": "a9428801",
   "metadata": {},
   "outputs": [],
   "source": [
    "def upload_files(file_name, bucket, object_name=None):\n",
    "    \"\"\"Upload a file to an S3 bucket\n",
    "\n",
    "    :param file_name: File to upload\n",
    "    :param bucket: Bucket to upload to\n",
    "    :param object_name: S3 object name. If not specified then file_name is used\n",
    "    :return: True if file was uploaded, else False\n",
    "    \"\"\"\n",
    "\n",
    "    # If S3 object_name was not specified, use file_name\n",
    "    if object_name is None:\n",
    "        object_name = os.path.basename(file_name)\n",
    "\n",
    "    # Upload the file\n",
    "    s3_client = boto3.client('s3')\n",
    "    try:\n",
    "        response = s3_client.upload_file(file_name, bucket, object_name)\n",
    "    except ClientError as e:\n",
    "        logging.error(e)\n",
    "        return False\n",
    "    return True"
   ]
  },
  {
   "cell_type": "code",
   "execution_count": 119,
   "id": "4354aa20",
   "metadata": {},
   "outputs": [
    {
     "data": {
      "text/plain": [
       "True"
      ]
     },
     "execution_count": 119,
     "metadata": {},
     "output_type": "execute_result"
    }
   ],
   "source": [
    "upload_file('AAPL.csv',bucketName)"
   ]
  },
  {
   "cell_type": "code",
   "execution_count": null,
   "id": "b0f4bf7c",
   "metadata": {},
   "outputs": [],
   "source": []
  }
 ],
 "metadata": {
  "kernelspec": {
   "display_name": "Python 3 (ipykernel)",
   "language": "python",
   "name": "python3"
  },
  "language_info": {
   "codemirror_mode": {
    "name": "ipython",
    "version": 3
   },
   "file_extension": ".py",
   "mimetype": "text/x-python",
   "name": "python",
   "nbconvert_exporter": "python",
   "pygments_lexer": "ipython3",
   "version": "3.10.6"
  }
 },
 "nbformat": 4,
 "nbformat_minor": 5
}
