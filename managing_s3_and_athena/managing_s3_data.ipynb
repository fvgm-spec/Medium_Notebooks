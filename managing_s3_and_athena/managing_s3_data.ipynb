{
 "cells": [
  {
   "cell_type": "code",
   "execution_count": 11,
   "id": "bad3dd26",
   "metadata": {},
   "outputs": [],
   "source": [
    "import boto3\n",
    "s3 = boto3.client('s3')\n",
    "response = s3.list_buckets()"
   ]
  },
  {
   "cell_type": "code",
   "execution_count": 12,
   "id": "95e70dd8",
   "metadata": {},
   "outputs": [
    {
     "data": {
      "text/plain": [
       "{'ResponseMetadata': {'RequestId': 'FTKK7BEATA6VH7DQ',\n",
       "  'HostId': 'cL9fRg6cAPV4sw9lP3XRsE9fdm3gUb91R7irPK6AWRMym7MgtzxyWqrRfCV3f6qpp7+4mrNIoMA=',\n",
       "  'HTTPStatusCode': 200,\n",
       "  'HTTPHeaders': {'x-amz-id-2': 'cL9fRg6cAPV4sw9lP3XRsE9fdm3gUb91R7irPK6AWRMym7MgtzxyWqrRfCV3f6qpp7+4mrNIoMA=',\n",
       "   'x-amz-request-id': 'FTKK7BEATA6VH7DQ',\n",
       "   'date': 'Mon, 05 Dec 2022 00:11:57 GMT',\n",
       "   'content-type': 'application/xml',\n",
       "   'transfer-encoding': 'chunked',\n",
       "   'server': 'AmazonS3'},\n",
       "  'RetryAttempts': 0},\n",
       " 'Buckets': [{'Name': 'yahoo-finance-bckt-1201',\n",
       "   'CreationDate': datetime.datetime(2022, 12, 1, 12, 20, 50, tzinfo=tzutc())}],\n",
       " 'Owner': {'DisplayName': 'felixmlb',\n",
       "  'ID': '9402830493660c37d25355e863da4afacaea8c554644b78d09231ef66877871f'}}"
      ]
     },
     "execution_count": 12,
     "metadata": {},
     "output_type": "execute_result"
    }
   ],
   "source": [
    "response"
   ]
  },
  {
   "cell_type": "code",
   "execution_count": 13,
   "id": "f8367f03",
   "metadata": {},
   "outputs": [
    {
     "name": "stdout",
     "output_type": "stream",
     "text": [
      "Existing buckets:\n",
      "  yahoo-finance-bckt-1201\n"
     ]
    }
   ],
   "source": [
    "# Output the bucket names\n",
    "print('Existing buckets:')\n",
    "for bucket in response['Buckets']:\n",
    "    print(f'  {bucket[\"Name\"]}')"
   ]
  },
  {
   "cell_type": "code",
   "execution_count": null,
   "id": "7b79a644",
   "metadata": {},
   "outputs": [],
   "source": []
  }
 ],
 "metadata": {
  "kernelspec": {
   "display_name": "Python 3 (ipykernel)",
   "language": "python",
   "name": "python3"
  },
  "language_info": {
   "codemirror_mode": {
    "name": "ipython",
    "version": 3
   },
   "file_extension": ".py",
   "mimetype": "text/x-python",
   "name": "python",
   "nbconvert_exporter": "python",
   "pygments_lexer": "ipython3",
   "version": "3.10.6"
  }
 },
 "nbformat": 4,
 "nbformat_minor": 5
}
