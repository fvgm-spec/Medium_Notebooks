{
 "cells": [
  {
   "cell_type": "markdown",
   "id": "21d5532a",
   "metadata": {},
   "source": [
    "### Analyzing Apache Druid Tutorial Data"
   ]
  },
  {
   "cell_type": "code",
   "execution_count": 2,
   "id": "b9b255d1",
   "metadata": {},
   "outputs": [],
   "source": [
    "import pandas as pd\n",
    "import json"
   ]
  },
  {
   "cell_type": "code",
   "execution_count": 3,
   "id": "9d116d15",
   "metadata": {},
   "outputs": [],
   "source": [
    "data_path = '../tutorial/wikiticker-2015-09-12/'"
   ]
  },
  {
   "cell_type": "code",
   "execution_count": 8,
   "id": "0b5f842e",
   "metadata": {},
   "outputs": [
    {
     "data": {
      "text/html": [
       "<div>\n",
       "<style scoped>\n",
       "    .dataframe tbody tr th:only-of-type {\n",
       "        vertical-align: middle;\n",
       "    }\n",
       "\n",
       "    .dataframe tbody tr th {\n",
       "        vertical-align: top;\n",
       "    }\n",
       "\n",
       "    .dataframe thead th {\n",
       "        text-align: right;\n",
       "    }\n",
       "</style>\n",
       "<table border=\"1\" class=\"dataframe\">\n",
       "  <thead>\n",
       "    <tr style=\"text-align: right;\">\n",
       "      <th></th>\n",
       "      <th>time</th>\n",
       "      <th>channel</th>\n",
       "      <th>cityName</th>\n",
       "      <th>comment</th>\n",
       "      <th>countryName</th>\n",
       "      <th>page</th>\n",
       "    </tr>\n",
       "  </thead>\n",
       "  <tbody>\n",
       "    <tr>\n",
       "      <th>0</th>\n",
       "      <td>2015-09-12T00:46:58.771Z</td>\n",
       "      <td>#en.wikipedia</td>\n",
       "      <td>None</td>\n",
       "      <td>added project</td>\n",
       "      <td>None</td>\n",
       "      <td>Talk:Oswald Tilghman</td>\n",
       "    </tr>\n",
       "    <tr>\n",
       "      <th>1</th>\n",
       "      <td>2015-09-12T00:47:00.496Z</td>\n",
       "      <td>#ca.wikipedia</td>\n",
       "      <td>None</td>\n",
       "      <td>Robot inserta {{Commonscat}} que enllaça amb [...</td>\n",
       "      <td>None</td>\n",
       "      <td>Rallicula</td>\n",
       "    </tr>\n",
       "    <tr>\n",
       "      <th>2</th>\n",
       "      <td>2015-09-12T00:47:05.474Z</td>\n",
       "      <td>#en.wikipedia</td>\n",
       "      <td>Auburn</td>\n",
       "      <td>/* Status of peremptory norms under internatio...</td>\n",
       "      <td>Australia</td>\n",
       "      <td>Peremptory norm</td>\n",
       "    </tr>\n",
       "    <tr>\n",
       "      <th>3</th>\n",
       "      <td>2015-09-12T00:47:08.770Z</td>\n",
       "      <td>#vi.wikipedia</td>\n",
       "      <td>None</td>\n",
       "      <td>fix Lỗi CS1: ngày tháng</td>\n",
       "      <td>None</td>\n",
       "      <td>Apamea abruzzorum</td>\n",
       "    </tr>\n",
       "    <tr>\n",
       "      <th>4</th>\n",
       "      <td>2015-09-12T00:47:11.862Z</td>\n",
       "      <td>#vi.wikipedia</td>\n",
       "      <td>None</td>\n",
       "      <td>clean up using [[Project:AWB|AWB]]</td>\n",
       "      <td>None</td>\n",
       "      <td>Atractus flammigerus</td>\n",
       "    </tr>\n",
       "  </tbody>\n",
       "</table>\n",
       "</div>"
      ],
      "text/plain": [
       "                       time        channel cityName  \\\n",
       "0  2015-09-12T00:46:58.771Z  #en.wikipedia     None   \n",
       "1  2015-09-12T00:47:00.496Z  #ca.wikipedia     None   \n",
       "2  2015-09-12T00:47:05.474Z  #en.wikipedia   Auburn   \n",
       "3  2015-09-12T00:47:08.770Z  #vi.wikipedia     None   \n",
       "4  2015-09-12T00:47:11.862Z  #vi.wikipedia     None   \n",
       "\n",
       "                                             comment countryName  \\\n",
       "0                                      added project        None   \n",
       "1  Robot inserta {{Commonscat}} que enllaça amb [...        None   \n",
       "2  /* Status of peremptory norms under internatio...   Australia   \n",
       "3                            fix Lỗi CS1: ngày tháng        None   \n",
       "4                 clean up using [[Project:AWB|AWB]]        None   \n",
       "\n",
       "                   page  \n",
       "0  Talk:Oswald Tilghman  \n",
       "1             Rallicula  \n",
       "2       Peremptory norm  \n",
       "3     Apamea abruzzorum  \n",
       "4  Atractus flammigerus  "
      ]
     },
     "execution_count": 8,
     "metadata": {},
     "output_type": "execute_result"
    }
   ],
   "source": [
    "df = pd.read_json(f'{data_path}wikiticker-2015-09-12-sampled.json', lines=True)\n",
    "df = df[['time', 'channel','cityName','comment','countryName','page']]\n",
    "df.head()"
   ]
  },
  {
   "cell_type": "code",
   "execution_count": null,
   "id": "934a868f",
   "metadata": {},
   "outputs": [],
   "source": []
  },
  {
   "cell_type": "code",
   "execution_count": null,
   "id": "bd2c135e",
   "metadata": {},
   "outputs": [],
   "source": []
  },
  {
   "cell_type": "markdown",
   "id": "a691ccf1",
   "metadata": {},
   "source": []
  }
 ],
 "metadata": {
  "kernelspec": {
   "display_name": "Python 3 (ipykernel)",
   "language": "python",
   "name": "python3"
  },
  "language_info": {
   "codemirror_mode": {
    "name": "ipython",
    "version": 3
   },
   "file_extension": ".py",
   "mimetype": "text/x-python",
   "name": "python",
   "nbconvert_exporter": "python",
   "pygments_lexer": "ipython3",
   "version": "3.11.4"
  }
 },
 "nbformat": 4,
 "nbformat_minor": 5
}
