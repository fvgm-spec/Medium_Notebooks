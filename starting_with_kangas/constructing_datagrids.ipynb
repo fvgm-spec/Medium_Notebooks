{
 "cells": [
  {
   "cell_type": "markdown",
   "id": "9385c53c",
   "metadata": {},
   "source": [
    "### Getting started with Kangas"
   ]
  },
  {
   "cell_type": "markdown",
   "id": "72b35f4b",
   "metadata": {},
   "source": [
    "##### Installing libraries"
   ]
  },
  {
   "cell_type": "code",
   "execution_count": 1,
   "id": "a9709ed4",
   "metadata": {},
   "outputs": [
    {
     "name": "stdout",
     "output_type": "stream",
     "text": [
      "Defaulting to user installation because normal site-packages is not writeable\n",
      "Collecting kangas\n",
      "  Downloading kangas-1.3.3-py3-none-any.whl (12.2 MB)\n",
      "\u001b[2K     \u001b[90m━━━━━━━━━━━━━━━━━━━━━━━━━━━━━━━━━━━━━━━━\u001b[0m \u001b[32m12.2/12.2 MB\u001b[0m \u001b[31m1.4 MB/s\u001b[0m eta \u001b[36m0:00:00\u001b[0m00:01\u001b[0m00:01\u001b[0m\n",
      "\u001b[?25hRequirement already satisfied: numpy in /home/felix/.local/lib/python3.10/site-packages (from kangas) (1.23.5)\n",
      "Requirement already satisfied: tornado in /home/felix/.local/lib/python3.10/site-packages (from kangas) (6.2)\n",
      "Collecting nodejs-bin==16.15.1a4\n",
      "  Downloading nodejs_bin-16.15.1a4-py3-none-manylinux_2_12_x86_64.manylinux2010_x86_64.whl (34.5 MB)\n",
      "\u001b[2K     \u001b[90m━━━━━━━━━━━━━━━━━━━━━━━━━━━━━━━━━━━━━━━━\u001b[0m \u001b[32m34.5/34.5 MB\u001b[0m \u001b[31m1.7 MB/s\u001b[0m eta \u001b[36m0:00:00\u001b[0m00:01\u001b[0m00:01\u001b[0m\n",
      "\u001b[?25hRequirement already satisfied: matplotlib in /home/felix/.local/lib/python3.10/site-packages (from kangas) (3.6.2)\n",
      "Requirement already satisfied: Pillow in /usr/lib/python3/dist-packages (from kangas) (9.0.1)\n",
      "Requirement already satisfied: requests in /usr/lib/python3/dist-packages (from kangas) (2.25.1)\n",
      "Requirement already satisfied: psutil in /home/felix/.local/lib/python3.10/site-packages (from kangas) (5.9.4)\n",
      "Collecting astor\n",
      "  Downloading astor-0.8.1-py2.py3-none-any.whl (27 kB)\n",
      "Requirement already satisfied: scipy in /usr/lib/python3/dist-packages (from kangas) (1.8.0)\n",
      "Collecting tqdm\n",
      "  Downloading tqdm-4.64.1-py2.py3-none-any.whl (78 kB)\n",
      "\u001b[2K     \u001b[90m━━━━━━━━━━━━━━━━━━━━━━━━━━━━━━━━━━━━━━━━\u001b[0m \u001b[32m78.5/78.5 KB\u001b[0m \u001b[31m3.0 MB/s\u001b[0m eta \u001b[36m0:00:00\u001b[0m\n",
      "\u001b[?25hRequirement already satisfied: contourpy>=1.0.1 in /home/felix/.local/lib/python3.10/site-packages (from matplotlib->kangas) (1.0.6)\n",
      "Requirement already satisfied: cycler>=0.10 in /home/felix/.local/lib/python3.10/site-packages (from matplotlib->kangas) (0.11.0)\n",
      "Requirement already satisfied: fonttools>=4.22.0 in /home/felix/.local/lib/python3.10/site-packages (from matplotlib->kangas) (4.38.0)\n",
      "Requirement already satisfied: packaging>=20.0 in /home/felix/.local/lib/python3.10/site-packages (from matplotlib->kangas) (21.3)\n",
      "Requirement already satisfied: pyparsing>=2.2.1 in /usr/lib/python3/dist-packages (from matplotlib->kangas) (2.4.7)\n",
      "Requirement already satisfied: python-dateutil>=2.7 in /home/felix/.local/lib/python3.10/site-packages (from matplotlib->kangas) (2.8.2)\n",
      "Requirement already satisfied: kiwisolver>=1.0.1 in /home/felix/.local/lib/python3.10/site-packages (from matplotlib->kangas) (1.4.4)\n",
      "Requirement already satisfied: six>=1.5 in /usr/lib/python3/dist-packages (from python-dateutil>=2.7->matplotlib->kangas) (1.16.0)\n",
      "Installing collected packages: tqdm, nodejs-bin, astor, kangas\n",
      "Successfully installed astor-0.8.1 kangas-1.3.3 nodejs-bin-16.15.1a4 tqdm-4.64.1\n",
      "Note: you may need to restart the kernel to use updated packages.\n"
     ]
    }
   ],
   "source": [
    "%pip install kangas"
   ]
  },
  {
   "cell_type": "markdown",
   "id": "087a1420",
   "metadata": {},
   "source": [
    "##### Importing required libraries"
   ]
  },
  {
   "cell_type": "code",
   "execution_count": 3,
   "id": "664ed24b",
   "metadata": {},
   "outputs": [
    {
     "name": "stdout",
     "output_type": "stream",
     "text": [
      "Kangas installed version is: 1.3.3\n",
      "pandas installed version is: 1.5.2\n"
     ]
    }
   ],
   "source": [
    "import kangas as kg\n",
    "print(f'Kangas installed version is: {kg.__version__}')\n",
    "import pandas as pd\n",
    "print(f'pandas installed version is: {pd.__version__}')"
   ]
  },
  {
   "cell_type": "markdown",
   "id": "e955c811",
   "metadata": {},
   "source": [
    "##### Constructing DataGrids from scratch"
   ]
  },
  {
   "cell_type": "code",
   "execution_count": 6,
   "id": "55236dac",
   "metadata": {},
   "outputs": [],
   "source": [
    "##Calling the DataGrid class from kangas\n",
    "dg = kg.DataGrid()\n",
    "dg.append([\"hello, world\", 3.5, None, 2, \"2023/05/13\"])\n",
    "dg.append([\"foo\", 6.2, None, 7, \"2022/10/15\"])\n",
    "dg.append([\"bar\", 1.2, None, 8, \"2023/07/31\"])"
   ]
  },
  {
   "cell_type": "markdown",
   "id": "349d4f2e",
   "metadata": {},
   "source": [
    "##### Showing the columns in the DataGrid"
   ]
  },
  {
   "cell_type": "code",
   "execution_count": 7,
   "id": "7769928f",
   "metadata": {},
   "outputs": [
    {
     "data": {
      "text/html": [
       "<table><th colspan='1' >          row-id </th> <th colspan='1' >               A </th> <th colspan='1' >               B </th> <th colspan='1' >               C </th> <th colspan='1' >               D </th> <th colspan='1' >               E </th> <tr>\n",
       "<td colspan='1' >               1 </td> <td colspan='1' >    hello, world </td> <td colspan='1' >             3.5 </td> <td colspan='1' >            None </td> <td colspan='1' >               2 </td> <td colspan='1' > 2023-05-13 00:0 </td> <tr>\n",
       "<td colspan='1' >               2 </td> <td colspan='1' >             foo </td> <td colspan='1' >             6.2 </td> <td colspan='1' >            None </td> <td colspan='1' >               7 </td> <td colspan='1' > 2022-10-15 00:0 </td> <tr>\n",
       "<td colspan='1' >               3 </td> <td colspan='1' >             bar </td> <td colspan='1' >             1.2 </td> <td colspan='1' >            None </td> <td colspan='1' >               8 </td> <td colspan='1' > 2023-07-31 00:0 </td> <tr>\n",
       "<tr>\n",
       "<td colspan='6' style=\"text-align: left;\"> [3 rows x 5 columns] </td> <tr>\n",
       "</table>"
      ],
      "text/plain": [
       "<IPython.core.display.HTML object>"
      ]
     },
     "metadata": {},
     "output_type": "display_data"
    }
   ],
   "source": [
    "dg.head()"
   ]
  },
  {
   "cell_type": "code",
   "execution_count": null,
   "id": "a1bfae37",
   "metadata": {},
   "outputs": [],
   "source": []
  },
  {
   "cell_type": "code",
   "execution_count": null,
   "id": "52a3a144",
   "metadata": {},
   "outputs": [],
   "source": [
    "dg.append([\"hello, world\", 3.5, None, 2, \"2023/05/13\"])\n",
    "dg.append([None, \"foo\", 62, 0.7, \"2022/10/15\"])\n",
    "dg.append([\"bar\", 1.2, 8, None, \"2023/07/31\"])"
   ]
  },
  {
   "cell_type": "code",
   "execution_count": null,
   "id": "ca3d3791",
   "metadata": {},
   "outputs": [],
   "source": []
  },
  {
   "cell_type": "code",
   "execution_count": null,
   "id": "db1942dd",
   "metadata": {},
   "outputs": [],
   "source": []
  },
  {
   "cell_type": "code",
   "execution_count": null,
   "id": "74cd46f3",
   "metadata": {},
   "outputs": [],
   "source": []
  },
  {
   "cell_type": "code",
   "execution_count": null,
   "id": "d0d1c650",
   "metadata": {},
   "outputs": [],
   "source": []
  },
  {
   "cell_type": "code",
   "execution_count": null,
   "id": "918ec2c0",
   "metadata": {},
   "outputs": [],
   "source": []
  }
 ],
 "metadata": {
  "kernelspec": {
   "display_name": "Python 3 (ipykernel)",
   "language": "python",
   "name": "python3"
  },
  "language_info": {
   "codemirror_mode": {
    "name": "ipython",
    "version": 3
   },
   "file_extension": ".py",
   "mimetype": "text/x-python",
   "name": "python",
   "nbconvert_exporter": "python",
   "pygments_lexer": "ipython3",
   "version": "3.10.6"
  }
 },
 "nbformat": 4,
 "nbformat_minor": 5
}
