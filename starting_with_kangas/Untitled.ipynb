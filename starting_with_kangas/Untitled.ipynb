{
 "cells": [
  {
   "cell_type": "markdown",
   "id": "86dec80e",
   "metadata": {},
   "source": [
    "### Getting started with Kangas"
   ]
  },
  {
   "cell_type": "markdown",
   "id": "a44ae6fa",
   "metadata": {},
   "source": [
    "##### Installing libraries"
   ]
  },
  {
   "cell_type": "code",
   "execution_count": 1,
   "id": "a3aa8185",
   "metadata": {},
   "outputs": [
    {
     "name": "stdout",
     "output_type": "stream",
     "text": [
      "Defaulting to user installation because normal site-packages is not writeable\n",
      "Collecting kangas\n",
      "  Downloading kangas-1.3.3-py3-none-any.whl (12.2 MB)\n",
      "\u001b[2K     \u001b[90m━━━━━━━━━━━━━━━━━━━━━━━━━━━━━━━━━━━━━━━━\u001b[0m \u001b[32m12.2/12.2 MB\u001b[0m \u001b[31m1.4 MB/s\u001b[0m eta \u001b[36m0:00:00\u001b[0m00:01\u001b[0m00:01\u001b[0m\n",
      "\u001b[?25hRequirement already satisfied: numpy in /home/felix/.local/lib/python3.10/site-packages (from kangas) (1.23.5)\n",
      "Requirement already satisfied: tornado in /home/felix/.local/lib/python3.10/site-packages (from kangas) (6.2)\n",
      "Collecting nodejs-bin==16.15.1a4\n",
      "  Downloading nodejs_bin-16.15.1a4-py3-none-manylinux_2_12_x86_64.manylinux2010_x86_64.whl (34.5 MB)\n",
      "\u001b[2K     \u001b[90m━━━━━━━━━━━━━━━━━━━━━━━━━━━━━━━━━━━━━━━━\u001b[0m \u001b[32m34.5/34.5 MB\u001b[0m \u001b[31m1.7 MB/s\u001b[0m eta \u001b[36m0:00:00\u001b[0m00:01\u001b[0m00:01\u001b[0m\n",
      "\u001b[?25hRequirement already satisfied: matplotlib in /home/felix/.local/lib/python3.10/site-packages (from kangas) (3.6.2)\n",
      "Requirement already satisfied: Pillow in /usr/lib/python3/dist-packages (from kangas) (9.0.1)\n",
      "Requirement already satisfied: requests in /usr/lib/python3/dist-packages (from kangas) (2.25.1)\n",
      "Requirement already satisfied: psutil in /home/felix/.local/lib/python3.10/site-packages (from kangas) (5.9.4)\n",
      "Collecting astor\n",
      "  Downloading astor-0.8.1-py2.py3-none-any.whl (27 kB)\n",
      "Requirement already satisfied: scipy in /usr/lib/python3/dist-packages (from kangas) (1.8.0)\n",
      "Collecting tqdm\n",
      "  Downloading tqdm-4.64.1-py2.py3-none-any.whl (78 kB)\n",
      "\u001b[2K     \u001b[90m━━━━━━━━━━━━━━━━━━━━━━━━━━━━━━━━━━━━━━━━\u001b[0m \u001b[32m78.5/78.5 KB\u001b[0m \u001b[31m3.0 MB/s\u001b[0m eta \u001b[36m0:00:00\u001b[0m\n",
      "\u001b[?25hRequirement already satisfied: contourpy>=1.0.1 in /home/felix/.local/lib/python3.10/site-packages (from matplotlib->kangas) (1.0.6)\n",
      "Requirement already satisfied: cycler>=0.10 in /home/felix/.local/lib/python3.10/site-packages (from matplotlib->kangas) (0.11.0)\n",
      "Requirement already satisfied: fonttools>=4.22.0 in /home/felix/.local/lib/python3.10/site-packages (from matplotlib->kangas) (4.38.0)\n",
      "Requirement already satisfied: packaging>=20.0 in /home/felix/.local/lib/python3.10/site-packages (from matplotlib->kangas) (21.3)\n",
      "Requirement already satisfied: pyparsing>=2.2.1 in /usr/lib/python3/dist-packages (from matplotlib->kangas) (2.4.7)\n",
      "Requirement already satisfied: python-dateutil>=2.7 in /home/felix/.local/lib/python3.10/site-packages (from matplotlib->kangas) (2.8.2)\n",
      "Requirement already satisfied: kiwisolver>=1.0.1 in /home/felix/.local/lib/python3.10/site-packages (from matplotlib->kangas) (1.4.4)\n",
      "Requirement already satisfied: six>=1.5 in /usr/lib/python3/dist-packages (from python-dateutil>=2.7->matplotlib->kangas) (1.16.0)\n",
      "Installing collected packages: tqdm, nodejs-bin, astor, kangas\n",
      "Successfully installed astor-0.8.1 kangas-1.3.3 nodejs-bin-16.15.1a4 tqdm-4.64.1\n",
      "Note: you may need to restart the kernel to use updated packages.\n"
     ]
    }
   ],
   "source": [
    "%pip install kangas"
   ]
  },
  {
   "cell_type": "code",
   "execution_count": null,
   "id": "c632816c",
   "metadata": {},
   "outputs": [],
   "source": []
  }
 ],
 "metadata": {
  "kernelspec": {
   "display_name": "Python 3 (ipykernel)",
   "language": "python",
   "name": "python3"
  },
  "language_info": {
   "codemirror_mode": {
    "name": "ipython",
    "version": 3
   },
   "file_extension": ".py",
   "mimetype": "text/x-python",
   "name": "python",
   "nbconvert_exporter": "python",
   "pygments_lexer": "ipython3",
   "version": "3.10.6"
  }
 },
 "nbformat": 4,
 "nbformat_minor": 5
}
