{
 "cells": [
  {
   "cell_type": "markdown",
   "id": "efc87f8b-2ff3-4671-a575-39a989e3c1e9",
   "metadata": {},
   "source": [
    "## Interpreting Fibonacci series in Python"
   ]
  },
  {
   "cell_type": "markdown",
   "id": "13e22752-1a8b-44ce-9e67-64f27eb6158c",
   "metadata": {},
   "source": [
    "Fibonacci series is one of the most common algorithms studied by beginner programmers, as it is a way to implement the recursion method in any of the most used programming languages.\n",
    "\n",
    "Fibonacci series is nothing else than a sequence of numbers where the $n_{th}$ term is the sum of the previous two terms in that series of mumbers.\n",
    "\n",
    "In mathematics, the Fibonacci numbers, commonly denoted a $Fn$, forms a sequence of numbers, called the _Fibonacci sequence_, such that each number is the sum of the two preceding ones, starting from 0 and 1. That is:\n",
    "\n",
    "$F_0 = 0, F_1 = 1$\n",
    "\n",
    "and then,\n",
    "\n",
    "$F_n = F_n-1 + F_n-2$\n",
    "\n",
    "This blog post does not pretend to be a complete detailed guide and study in regrads the genaration and mathematical implications of this important series of numbers, but does pretend to be a quick resume with history about this marvelous mathematical creation, for a more detailed documentation Wikipedia has a nice [article](https://en.wikipedia.org/wiki/Fibonacci_number).\n",
    "\n",
    "\n",
    "###  Brief History\n",
    "\n",
    "The Fibonacci sequence appears in Indian mathematics in connection with Sanskrit prosody, in Pingala's (c. 450 BC–200 BC) Sanskrit poetic tradition\n",
    "\n",
    "Knowledge of the Fibonacci sequence also by Bharata Muni on his Natya Shastra (c. 100 BC–c. 350 AD). \n",
    "\n",
    "Outside India, the Fibonacci sequence first appears in the book [Liber Abaci](https://es.wikipedia.org/wiki/Liber_abaci) (The Book of Calculation, 1202) by Leonardo de Pisa, AKA Fibonacci, where this sequence was used to calculate the growth of rabbit populations.\n",
    "\n",
    "![image1](img/leonardo-fibonacci.jpg)\n"
   ]
  },
  {
   "cell_type": "markdown",
   "id": "6c5ad16d-c7c1-4d8b-a433-7a6ee15eaa4b",
   "metadata": {},
   "source": [
    "## The enigma of rabbits\n",
    "\n",
    "Nowadays, Fibonacci is better known for the discovery of some numbers, now called the Fibonacci sequence, which arose when he tried to solve an enigma about rabbit mating habits.\n",
    "\n",
    "Suppose a farmer has a pair of rabbits.\n",
    "\n",
    "Rabbits take two months to reach maturity, and after that they give birth to another pair of rabbits every month.\n",
    "\n",
    "The problem was how to know how many pairs of rabbits would have been in a given month.\n",
    "\n",
    "Then:\n",
    "\n",
    " *  During the 1st month you have a pair of rabbits and, as they have not matured, they can not reproduce.\n",
    " *  During the 2nd month, there is still a single pair.\n",
    " *  But at the beginning of the 3rd month, the first couple reproduces for the first time, so there are 2 pairs of rabbits.\n",
    " *  At the beginning of the 4th month, the first pair is reproduced again, but the second pair is not mature enough, so there are 3 pairs.\n",
    " *  In the 5th month, the first pair is reproduced and the second pair is played for the first time, but the third pair is still very young, so there are 5 pairs.\n",
    "\n",
    "![image2](img/rabbits.png)\n",
    "\n",
    "The ritual of mating continues, but what you will notice soon is that the number of rabbit couples you have in a given month is the sum of the rabbit couples you have had in each of the two previous months, so the sequence continues, because in the ilustration for the 5th month, will be able to mate, the yellow, green and purple pairs of rabbits, so the sequence continues with 8, and so on.\n",
    "\n",
    "This sequence is expressed as:\n",
    "\n",
    "**1... 1... 2... 3... 5... 8... 13... 21... 34... 55... and so on.**"
   ]
  },
  {
   "cell_type": "markdown",
   "id": "f8eccc93-6837-424e-85ec-ba94037a837c",
   "metadata": {},
   "source": [
    "### Conection with nature and golden ratio\n",
    "\n",
    "Fibonacci numbers appears in nature often enough to prove that they reflect some naturally occurring patterns, for example, they appear in seed heads, pinecones, fruits and vegetables. Even DNA molecules has the presence in some way of this series of numbers, a sample of this is that a single molecule measures 34 x 21 Angstroms in each complete cycle of the double helix spiral, which is the same as in the Fibonacci series, 34 and 21 successive numbers.\n",
    "\n",
    "![image6](img/dna.png)\n",
    "\n",
    "In arts and architecture this \"golden measure\" also called [golden ratio](https://en.wikipedia.org/wiki/Golden_ratio) was used to build the great Pyramid of Giza, and also used to define all the proportions in \"Last Supper\", \"Vitruvian Man\" and \"Mona Lisa\".\n",
    "\n",
    "![image7](img/last_supper.png)"
   ]
  },
  {
   "cell_type": "markdown",
   "id": "b78345ce-a637-472e-b107-4a9271d3dbea",
   "metadata": {},
   "source": [
    "### Code to generate Fibonacci series\n",
    "\n",
    "In Python [web site](https://www.python.org/) you can find one of the ways to generate Fibonacci series by coding, find bellow this code in Jupyter notebook\n",
    "\n",
    "![image3](img/fibonacci_series_python.png)\n",
    "\n",
    "As an example of how this algorithm works, starting always with the pair of numbers 0, 1 defined by variables a, b, if the series goes until 5, it will always perform a sum of all the previous numbers on the series, like in the image below.\n",
    "\n",
    "![image4](img/fib_series.png)\n",
    "\n",
    "The traditional way to generate the series in python starts by defining a function called `fib`, then inside of it, declaring the variables a, b equals to the first 2 numbers the series starts, 0 and 1. After that the code begins looping the numbers between `a` (means 0) and the value designed to `n`, in this case 10, so the initial pair of numbers: `a` which started as 0 becomes `b` (means 1), and the sum of `a` + `b` (means 0 + 1) = 1. This way the second pair of numbers is made 0, **1, 1**... "
   ]
  },
  {
   "cell_type": "code",
   "execution_count": 49,
   "id": "d19fb558-7658-4bdd-85b6-85d658a465b0",
   "metadata": {},
   "outputs": [
    {
     "name": "stdout",
     "output_type": "stream",
     "text": [
      "0 1 1 2 3 5 8 \n"
     ]
    }
   ],
   "source": [
    "##Traditional way\n",
    "\n",
    "def fib(n):\n",
    "    a, b = 0, 1\n",
    "    while a < n:\n",
    "        print(a, end=' ')\n",
    "        a, b = b, a+b\n",
    "    print()\n",
    "    \n",
    "fib(10)"
   ]
  },
  {
   "cell_type": "markdown",
   "id": "ab7fd52f-8c7e-4b72-8dc9-bdd52c479d48",
   "metadata": {},
   "source": [
    "A very practical way to visualize step by step the execution of this code is [pythontutor.com](http://pythontutor.com/), find below a link that goes to the execution of the [Fibonacci series in python](http://pythontutor.com/visualize.html#code=def%20fib%28n%29%3A%0A%20%20%20%20a,%20b%20%3D%200,%201%0A%20%20%20%20while%20a%20%3C%20n%3A%0A%20%20%20%20%20%20%20%20print%28a,%20end%3D'%20'%29%0A%20%20%20%20%20%20%20%20a,%20b%20%3D%20b,%20a%2Bb%0A%20%20%20%20print%28%29%0A%20%20%20%20%0Afib%2810%29&cumulative=false&curInstr=15&heapPrimitives=nevernest&mode=display&origin=opt-frontend.js&py=3&rawInputLstJSON=%5B%5D&textReferences=false)\n",
    "\n",
    "![image5](img/python_tutor.png)"
   ]
  },
  {
   "cell_type": "markdown",
   "id": "7004ea25-0c96-479f-be8f-6978a10da0e2",
   "metadata": {},
   "source": [
    "### Other ways to generate Fibonacci series\n",
    "\n",
    "There are of course another different ways to get the same results in python, feel free to try this chunks of code by cloning the [notebook](https://github.com/fvgm-spec/Data_Science_Projects/blob/master/fibonacci_series.ipynb) from GitHub."
   ]
  },
  {
   "cell_type": "code",
   "execution_count": 50,
   "id": "29a67c05-3340-4a2c-b3fb-4f737831b7cb",
   "metadata": {},
   "outputs": [
    {
     "name": "stdout",
     "output_type": "stream",
     "text": [
      "1 2 3 5 8 13 21 34 55 89 "
     ]
    }
   ],
   "source": [
    "def fibonacci(n):\n",
    "    if n == 1:\n",
    "        return 1\n",
    "    count = 0\n",
    "    a, b = 0, 1\n",
    "    # count variable to track nth value\n",
    "    while count < n:\n",
    "        c = a + b\n",
    "        # swap a and b values\n",
    "        a, b = b, c\n",
    "        print(c, end=\" \")\n",
    "        count += 1\n",
    "        \n",
    "fibonacci(10)"
   ]
  },
  {
   "cell_type": "markdown",
   "id": "19524b4b-b63d-48d1-8758-9fbba3d72fa2",
   "metadata": {},
   "source": [
    "### The recursive way"
   ]
  },
  {
   "cell_type": "code",
   "execution_count": 46,
   "id": "05ba39ee-16a0-4c8f-95a5-b19b5fd724f5",
   "metadata": {},
   "outputs": [
    {
     "name": "stdout",
     "output_type": "stream",
     "text": [
      "55\n"
     ]
    }
   ],
   "source": [
    "def fib_recursive(n):\n",
    "    # base case\n",
    "    if n < 1:\n",
    "        return 0\n",
    "    elif n == 1:\n",
    "        return 1\n",
    "    \n",
    "    return fib_recursive(n-1) + fib_recursive(n-2)\n",
    "  \n",
    "print(fib_recursive(10))"
   ]
  },
  {
   "cell_type": "markdown",
   "id": "bc8741a4-7c1d-4123-b252-dbafdf206101",
   "metadata": {},
   "source": [
    "### Using lists"
   ]
  },
  {
   "cell_type": "code",
   "execution_count": 51,
   "id": "b2de749a-ee9e-4441-9ccb-1ef05b0c0baa",
   "metadata": {},
   "outputs": [
    {
     "name": "stdout",
     "output_type": "stream",
     "text": [
      "[0, 1, 1, 2, 3, 5, 8, 13, 21, 34, 55, 89]\n"
     ]
    }
   ],
   "source": [
    "def fib_pythonic(n):\n",
    "\n",
    "    fib_list = [0, 1]\n",
    "    for i in range(n):\n",
    "        fib_list.append(fib_list[-1] + fib_list[-2])\n",
    "\n",
    "    print(fib_list)\n",
    "    \n",
    "fib_pythonic(10)"
   ]
  },
  {
   "cell_type": "markdown",
   "id": "0045608d-da9b-49c1-b5e1-d054a7410fa5",
   "metadata": {},
   "source": [
    "### Through a loop"
   ]
  },
  {
   "cell_type": "code",
   "execution_count": 52,
   "id": "fc9f6fea-796c-459f-b460-e25ee2ea9f44",
   "metadata": {},
   "outputs": [
    {
     "name": "stdout",
     "output_type": "stream",
     "text": [
      "[1, 2, 3, 5, 8]\n"
     ]
    },
    {
     "data": {
      "text/plain": [
       "8"
      ]
     },
     "execution_count": 52,
     "metadata": {},
     "output_type": "execute_result"
    }
   ],
   "source": [
    "def fibonacci_loop(n):\n",
    "    new, old = 1, 1\n",
    "    fib_list = []\n",
    "    for itr in range(n - 1):\n",
    "        temp, new = new, old\n",
    "        old = old + temp\n",
    "        fib_list.append(new)\n",
    "    print(fib_list)\n",
    "    return new\n",
    "# Call the function\n",
    "fibonacci_loop(6)"
   ]
  },
  {
   "cell_type": "markdown",
   "id": "504d5962-d8ce-4f34-853a-371c79ce9f1e",
   "metadata": {},
   "source": [
    "Through this tutorial we have learned a little bit of history regarding this basic but very important algorithm by visualizing its step by step execution and analyzing as well the primitive use case that helped to know this method from its inception."
   ]
  },
  {
   "cell_type": "code",
   "execution_count": null,
   "id": "d542b0de-147f-40db-b911-6b4a5f34e30b",
   "metadata": {},
   "outputs": [],
   "source": []
  },
  {
   "cell_type": "code",
   "execution_count": 53,
   "id": "dcb35c47-2618-4963-843f-ca9b9f3e43b9",
   "metadata": {},
   "outputs": [
    {
     "data": {
      "text/plain": [
       "1.6"
      ]
     },
     "execution_count": 53,
     "metadata": {},
     "output_type": "execute_result"
    }
   ],
   "source": [
    "8/5"
   ]
  },
  {
   "cell_type": "code",
   "execution_count": null,
   "id": "eb9b3c56-32d8-4f40-8521-b1be5711d8d2",
   "metadata": {},
   "outputs": [],
   "source": []
  }
 ],
 "metadata": {
  "kernelspec": {
   "display_name": "Python 3",
   "language": "python",
   "name": "python3"
  },
  "language_info": {
   "codemirror_mode": {
    "name": "ipython",
    "version": 3
   },
   "file_extension": ".py",
   "mimetype": "text/x-python",
   "name": "python",
   "nbconvert_exporter": "python",
   "pygments_lexer": "ipython3",
   "version": "3.8.8"
  }
 },
 "nbformat": 4,
 "nbformat_minor": 5
}
